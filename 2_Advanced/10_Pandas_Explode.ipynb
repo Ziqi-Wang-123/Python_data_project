{
 "cells": [
  {
   "cell_type": "markdown",
   "id": "693e3a16",
   "metadata": {},
   "source": [
    "## DataFrame.explode(column, ignore_index=False)\n"
   ]
  },
  {
   "cell_type": "markdown",
   "id": "264e4211",
   "metadata": {},
   "source": [
    "##### The DataFrame.explode() method in pandas is used to transform each element of a list-like to a row, replicating the index values\n",
    "\n",
    "Parameters:\n",
    "1. column (required):\n",
    "\n",
    "Type: str or tuple or list-like of str/tuples (if multi-column support is available in your pandas version)\n",
    "\n",
    "**The column(s) to explode. Must have list-like elements (e.g., lists, tuples, sets).**\n",
    "\n",
    "2. ignore_index (optional):  \n",
    "\n",
    "Type: bool, default False  \n",
    "\n",
    "If True, the resulting DataFrame will be reindexed (i.e., index will be reset).\n",
    "\n",
    "If False, the original index values will be retained, which **may result in duplicate index values.**"
   ]
  },
  {
   "cell_type": "markdown",
   "id": "5ae241b0",
   "metadata": {},
   "source": [
    "Here's a fake dataset of 3 job postings."
   ]
  },
  {
   "cell_type": "code",
   "execution_count": 2,
   "id": "d052704b",
   "metadata": {},
   "outputs": [
    {
     "data": {
      "text/html": [
       "<div>\n",
       "<style scoped>\n",
       "    .dataframe tbody tr th:only-of-type {\n",
       "        vertical-align: middle;\n",
       "    }\n",
       "\n",
       "    .dataframe tbody tr th {\n",
       "        vertical-align: top;\n",
       "    }\n",
       "\n",
       "    .dataframe thead th {\n",
       "        text-align: right;\n",
       "    }\n",
       "</style>\n",
       "<table border=\"1\" class=\"dataframe\">\n",
       "  <thead>\n",
       "    <tr style=\"text-align: right;\">\n",
       "      <th></th>\n",
       "      <th>job_title_short</th>\n",
       "      <th>job_skills</th>\n",
       "    </tr>\n",
       "  </thead>\n",
       "  <tbody>\n",
       "    <tr>\n",
       "      <th>0</th>\n",
       "      <td>Data Analyst</td>\n",
       "      <td>[excel, sql, python]</td>\n",
       "    </tr>\n",
       "    <tr>\n",
       "      <th>1</th>\n",
       "      <td>Data Scientist</td>\n",
       "      <td>[python, r]</td>\n",
       "    </tr>\n",
       "    <tr>\n",
       "      <th>2</th>\n",
       "      <td>Data Engineer</td>\n",
       "      <td>[aws, python, airflow]</td>\n",
       "    </tr>\n",
       "  </tbody>\n",
       "</table>\n",
       "</div>"
      ],
      "text/plain": [
       "  job_title_short              job_skills\n",
       "0    Data Analyst    [excel, sql, python]\n",
       "1  Data Scientist             [python, r]\n",
       "2   Data Engineer  [aws, python, airflow]"
      ]
     },
     "execution_count": 2,
     "metadata": {},
     "output_type": "execute_result"
    }
   ],
   "source": [
    "import pandas as pd\n",
    "data = {\n",
    "    'job_title_short': ['Data Analyst', 'Data Scientist', 'Data Engineer'],\n",
    "    'job_skills': [['excel', 'sql', 'python'], ['python', 'r'], ['aws', 'python', 'airflow']]\n",
    "}\n",
    "\n",
    "df_skills = pd.DataFrame(data)\n",
    "\n",
    "df_skills"
   ]
  },
  {
   "cell_type": "markdown",
   "id": "04846138",
   "metadata": {},
   "source": [
    "If we wanted to analyze the skills in this we'd need a minimum of 5 lines of code to get the counts of skills."
   ]
  },
  {
   "cell_type": "code",
   "execution_count": 3,
   "id": "29cff346",
   "metadata": {},
   "outputs": [
    {
     "data": {
      "text/html": [
       "<div>\n",
       "<style scoped>\n",
       "    .dataframe tbody tr th:only-of-type {\n",
       "        vertical-align: middle;\n",
       "    }\n",
       "\n",
       "    .dataframe tbody tr th {\n",
       "        vertical-align: top;\n",
       "    }\n",
       "\n",
       "    .dataframe thead th {\n",
       "        text-align: right;\n",
       "    }\n",
       "</style>\n",
       "<table border=\"1\" class=\"dataframe\">\n",
       "  <thead>\n",
       "    <tr style=\"text-align: right;\">\n",
       "      <th></th>\n",
       "      <th>job_title_short</th>\n",
       "      <th>job_skills</th>\n",
       "      <th>excel</th>\n",
       "      <th>sql</th>\n",
       "      <th>python</th>\n",
       "      <th>r</th>\n",
       "      <th>aws</th>\n",
       "      <th>airflow</th>\n",
       "    </tr>\n",
       "  </thead>\n",
       "  <tbody>\n",
       "    <tr>\n",
       "      <th>0</th>\n",
       "      <td>Data Analyst</td>\n",
       "      <td>[excel, sql, python]</td>\n",
       "      <td>1</td>\n",
       "      <td>1</td>\n",
       "      <td>1</td>\n",
       "      <td>0</td>\n",
       "      <td>0</td>\n",
       "      <td>0</td>\n",
       "    </tr>\n",
       "    <tr>\n",
       "      <th>1</th>\n",
       "      <td>Data Scientist</td>\n",
       "      <td>[python, r]</td>\n",
       "      <td>0</td>\n",
       "      <td>0</td>\n",
       "      <td>1</td>\n",
       "      <td>1</td>\n",
       "      <td>0</td>\n",
       "      <td>0</td>\n",
       "    </tr>\n",
       "    <tr>\n",
       "      <th>2</th>\n",
       "      <td>Data Engineer</td>\n",
       "      <td>[aws, python, airflow]</td>\n",
       "      <td>0</td>\n",
       "      <td>0</td>\n",
       "      <td>1</td>\n",
       "      <td>0</td>\n",
       "      <td>1</td>\n",
       "      <td>1</td>\n",
       "    </tr>\n",
       "    <tr>\n",
       "      <th>Total</th>\n",
       "      <td>Data AnalystData ScientistData Engineer</td>\n",
       "      <td>[excel, sql, python, python, r, aws, python, a...</td>\n",
       "      <td>1</td>\n",
       "      <td>1</td>\n",
       "      <td>3</td>\n",
       "      <td>1</td>\n",
       "      <td>1</td>\n",
       "      <td>1</td>\n",
       "    </tr>\n",
       "  </tbody>\n",
       "</table>\n",
       "</div>"
      ],
      "text/plain": [
       "                               job_title_short  \\\n",
       "0                                 Data Analyst   \n",
       "1                               Data Scientist   \n",
       "2                                Data Engineer   \n",
       "Total  Data AnalystData ScientistData Engineer   \n",
       "\n",
       "                                              job_skills  excel  sql  python  \\\n",
       "0                                   [excel, sql, python]      1    1       1   \n",
       "1                                            [python, r]      0    0       1   \n",
       "2                                 [aws, python, airflow]      0    0       1   \n",
       "Total  [excel, sql, python, python, r, aws, python, a...      1    1       3   \n",
       "\n",
       "       r  aws  airflow  \n",
       "0      0    0        0  \n",
       "1      1    0        0  \n",
       "2      0    1        1  \n",
       "Total  1    1        1  "
      ]
     },
     "execution_count": 3,
     "metadata": {},
     "output_type": "execute_result"
    }
   ],
   "source": [
    "df_skill_lists = df_skills.copy()\n",
    "\n",
    "for row in df_skill_lists.itertuples():\n",
    "    for skill in row.job_skills:\n",
    "        df_skill_lists[skill] = df_skill_lists['job_skills'].apply(lambda x: skill in x)\n",
    "        df_skill_lists[skill] = df_skill_lists[skill].astype(int)\n",
    "        \n",
    "df_skill_lists.loc['Total'] = df_skill_lists.sum()\n",
    "\n",
    "df_skill_lists"
   ]
  },
  {
   "cell_type": "markdown",
   "id": "2d80420e",
   "metadata": {},
   "source": [
    "However, exploding it out makes the data a lot easier to work with."
   ]
  },
  {
   "cell_type": "code",
   "execution_count": 4,
   "id": "9e3ba9c1",
   "metadata": {},
   "outputs": [
    {
     "data": {
      "text/html": [
       "<div>\n",
       "<style scoped>\n",
       "    .dataframe tbody tr th:only-of-type {\n",
       "        vertical-align: middle;\n",
       "    }\n",
       "\n",
       "    .dataframe tbody tr th {\n",
       "        vertical-align: top;\n",
       "    }\n",
       "\n",
       "    .dataframe thead th {\n",
       "        text-align: right;\n",
       "    }\n",
       "</style>\n",
       "<table border=\"1\" class=\"dataframe\">\n",
       "  <thead>\n",
       "    <tr style=\"text-align: right;\">\n",
       "      <th></th>\n",
       "      <th>job_title_short</th>\n",
       "      <th>job_skills</th>\n",
       "    </tr>\n",
       "  </thead>\n",
       "  <tbody>\n",
       "    <tr>\n",
       "      <th>0</th>\n",
       "      <td>Data Analyst</td>\n",
       "      <td>excel</td>\n",
       "    </tr>\n",
       "    <tr>\n",
       "      <th>0</th>\n",
       "      <td>Data Analyst</td>\n",
       "      <td>sql</td>\n",
       "    </tr>\n",
       "    <tr>\n",
       "      <th>0</th>\n",
       "      <td>Data Analyst</td>\n",
       "      <td>python</td>\n",
       "    </tr>\n",
       "    <tr>\n",
       "      <th>1</th>\n",
       "      <td>Data Scientist</td>\n",
       "      <td>python</td>\n",
       "    </tr>\n",
       "    <tr>\n",
       "      <th>1</th>\n",
       "      <td>Data Scientist</td>\n",
       "      <td>r</td>\n",
       "    </tr>\n",
       "    <tr>\n",
       "      <th>2</th>\n",
       "      <td>Data Engineer</td>\n",
       "      <td>aws</td>\n",
       "    </tr>\n",
       "    <tr>\n",
       "      <th>2</th>\n",
       "      <td>Data Engineer</td>\n",
       "      <td>python</td>\n",
       "    </tr>\n",
       "    <tr>\n",
       "      <th>2</th>\n",
       "      <td>Data Engineer</td>\n",
       "      <td>airflow</td>\n",
       "    </tr>\n",
       "  </tbody>\n",
       "</table>\n",
       "</div>"
      ],
      "text/plain": [
       "  job_title_short job_skills\n",
       "0    Data Analyst      excel\n",
       "0    Data Analyst        sql\n",
       "0    Data Analyst     python\n",
       "1  Data Scientist     python\n",
       "1  Data Scientist          r\n",
       "2   Data Engineer        aws\n",
       "2   Data Engineer     python\n",
       "2   Data Engineer    airflow"
      ]
     },
     "execution_count": 4,
     "metadata": {},
     "output_type": "execute_result"
    }
   ],
   "source": [
    "df_exploded = df_skills.explode('job_skills')\n",
    "\n",
    "df_exploded"
   ]
  },
  {
   "cell_type": "code",
   "execution_count": 6,
   "id": "23257e24",
   "metadata": {},
   "outputs": [
    {
     "data": {
      "text/plain": [
       "job_skills\n",
       "python     3\n",
       "airflow    1\n",
       "aws        1\n",
       "excel      1\n",
       "r          1\n",
       "sql        1\n",
       "Name: count, dtype: int64"
      ]
     },
     "execution_count": 6,
     "metadata": {},
     "output_type": "execute_result"
    }
   ],
   "source": [
    "df_skills.explode('job_skills').value_counts('job_skills')"
   ]
  },
  {
   "cell_type": "code",
   "execution_count": 10,
   "id": "c896f680",
   "metadata": {},
   "outputs": [
    {
     "data": {
      "text/html": [
       "<div>\n",
       "<style scoped>\n",
       "    .dataframe tbody tr th:only-of-type {\n",
       "        vertical-align: middle;\n",
       "    }\n",
       "\n",
       "    .dataframe tbody tr th {\n",
       "        vertical-align: top;\n",
       "    }\n",
       "\n",
       "    .dataframe thead th {\n",
       "        text-align: right;\n",
       "    }\n",
       "</style>\n",
       "<table border=\"1\" class=\"dataframe\">\n",
       "  <thead>\n",
       "    <tr style=\"text-align: right;\">\n",
       "      <th></th>\n",
       "      <th>job_title_short</th>\n",
       "      <th>job_skills</th>\n",
       "    </tr>\n",
       "  </thead>\n",
       "  <tbody>\n",
       "    <tr>\n",
       "      <th>0</th>\n",
       "      <td>Senior Data Engineer</td>\n",
       "      <td>NaN</td>\n",
       "    </tr>\n",
       "    <tr>\n",
       "      <th>1</th>\n",
       "      <td>Data Analyst</td>\n",
       "      <td>[r, python, sql, nosql, power bi, tableau]</td>\n",
       "    </tr>\n",
       "    <tr>\n",
       "      <th>2</th>\n",
       "      <td>Data Engineer</td>\n",
       "      <td>[python, sql, c#, azure, airflow, dax, docker,...</td>\n",
       "    </tr>\n",
       "    <tr>\n",
       "      <th>3</th>\n",
       "      <td>Data Engineer</td>\n",
       "      <td>[python, c++, java, matlab, aws, tensorflow, k...</td>\n",
       "    </tr>\n",
       "    <tr>\n",
       "      <th>4</th>\n",
       "      <td>Data Engineer</td>\n",
       "      <td>[bash, python, oracle, aws, ansible, puppet, j...</td>\n",
       "    </tr>\n",
       "  </tbody>\n",
       "</table>\n",
       "</div>"
      ],
      "text/plain": [
       "        job_title_short                                         job_skills\n",
       "0  Senior Data Engineer                                                NaN\n",
       "1          Data Analyst         [r, python, sql, nosql, power bi, tableau]\n",
       "2         Data Engineer  [python, sql, c#, azure, airflow, dax, docker,...\n",
       "3         Data Engineer  [python, c++, java, matlab, aws, tensorflow, k...\n",
       "4         Data Engineer  [bash, python, oracle, aws, ansible, puppet, j..."
      ]
     },
     "execution_count": 10,
     "metadata": {},
     "output_type": "execute_result"
    }
   ],
   "source": [
    "# import libraries\n",
    "import pandas as pd\n",
    "import ast\n",
    "\n",
    "#import data\n",
    "df=pd.read_csv('/Users/abby/Python_data_project/2_Advanced/data_jobs.csv')\n",
    "\n",
    "# data cleanup\n",
    "df['job_posted_date']=pd.to_datetime(df['job_posted_date'])\n",
    "# Convert string representation to actual list, checking for NaN values first\n",
    "df['job_skills']=df['job_skills'].apply(lambda x: ast.literal_eval(x) if pd.notna(x) else x)\n",
    "\n",
    "df[['job_title_short','job_skills']].head()"
   ]
  },
  {
   "cell_type": "code",
   "execution_count": 11,
   "id": "9c2c18bc",
   "metadata": {},
   "outputs": [
    {
     "data": {
      "text/html": [
       "<div>\n",
       "<style scoped>\n",
       "    .dataframe tbody tr th:only-of-type {\n",
       "        vertical-align: middle;\n",
       "    }\n",
       "\n",
       "    .dataframe tbody tr th {\n",
       "        vertical-align: top;\n",
       "    }\n",
       "\n",
       "    .dataframe thead th {\n",
       "        text-align: right;\n",
       "    }\n",
       "</style>\n",
       "<table border=\"1\" class=\"dataframe\">\n",
       "  <thead>\n",
       "    <tr style=\"text-align: right;\">\n",
       "      <th></th>\n",
       "      <th>job_title_short</th>\n",
       "      <th>job_title</th>\n",
       "      <th>job_location</th>\n",
       "      <th>job_via</th>\n",
       "      <th>job_schedule_type</th>\n",
       "      <th>job_work_from_home</th>\n",
       "      <th>search_location</th>\n",
       "      <th>job_posted_date</th>\n",
       "      <th>job_no_degree_mention</th>\n",
       "      <th>job_health_insurance</th>\n",
       "      <th>job_country</th>\n",
       "      <th>salary_rate</th>\n",
       "      <th>salary_year_avg</th>\n",
       "      <th>salary_hour_avg</th>\n",
       "      <th>company_name</th>\n",
       "      <th>job_skills</th>\n",
       "      <th>job_type_skills</th>\n",
       "    </tr>\n",
       "  </thead>\n",
       "  <tbody>\n",
       "    <tr>\n",
       "      <th>0</th>\n",
       "      <td>Senior Data Engineer</td>\n",
       "      <td>Senior Clinical Data Engineer / Principal Clin...</td>\n",
       "      <td>Watertown, CT</td>\n",
       "      <td>via Work Nearby</td>\n",
       "      <td>Full-time</td>\n",
       "      <td>False</td>\n",
       "      <td>Texas, United States</td>\n",
       "      <td>2023-06-16 13:44:15</td>\n",
       "      <td>False</td>\n",
       "      <td>False</td>\n",
       "      <td>United States</td>\n",
       "      <td>NaN</td>\n",
       "      <td>NaN</td>\n",
       "      <td>NaN</td>\n",
       "      <td>Boehringer Ingelheim</td>\n",
       "      <td>NaN</td>\n",
       "      <td>NaN</td>\n",
       "    </tr>\n",
       "    <tr>\n",
       "      <th>1</th>\n",
       "      <td>Data Analyst</td>\n",
       "      <td>Data Analyst</td>\n",
       "      <td>Guadalajara, Jalisco, Mexico</td>\n",
       "      <td>via BeBee México</td>\n",
       "      <td>Full-time</td>\n",
       "      <td>False</td>\n",
       "      <td>Mexico</td>\n",
       "      <td>2023-01-14 13:18:07</td>\n",
       "      <td>False</td>\n",
       "      <td>False</td>\n",
       "      <td>Mexico</td>\n",
       "      <td>NaN</td>\n",
       "      <td>NaN</td>\n",
       "      <td>NaN</td>\n",
       "      <td>Hewlett Packard Enterprise</td>\n",
       "      <td>r</td>\n",
       "      <td>{'analyst_tools': ['power bi', 'tableau'], 'pr...</td>\n",
       "    </tr>\n",
       "    <tr>\n",
       "      <th>1</th>\n",
       "      <td>Data Analyst</td>\n",
       "      <td>Data Analyst</td>\n",
       "      <td>Guadalajara, Jalisco, Mexico</td>\n",
       "      <td>via BeBee México</td>\n",
       "      <td>Full-time</td>\n",
       "      <td>False</td>\n",
       "      <td>Mexico</td>\n",
       "      <td>2023-01-14 13:18:07</td>\n",
       "      <td>False</td>\n",
       "      <td>False</td>\n",
       "      <td>Mexico</td>\n",
       "      <td>NaN</td>\n",
       "      <td>NaN</td>\n",
       "      <td>NaN</td>\n",
       "      <td>Hewlett Packard Enterprise</td>\n",
       "      <td>python</td>\n",
       "      <td>{'analyst_tools': ['power bi', 'tableau'], 'pr...</td>\n",
       "    </tr>\n",
       "    <tr>\n",
       "      <th>1</th>\n",
       "      <td>Data Analyst</td>\n",
       "      <td>Data Analyst</td>\n",
       "      <td>Guadalajara, Jalisco, Mexico</td>\n",
       "      <td>via BeBee México</td>\n",
       "      <td>Full-time</td>\n",
       "      <td>False</td>\n",
       "      <td>Mexico</td>\n",
       "      <td>2023-01-14 13:18:07</td>\n",
       "      <td>False</td>\n",
       "      <td>False</td>\n",
       "      <td>Mexico</td>\n",
       "      <td>NaN</td>\n",
       "      <td>NaN</td>\n",
       "      <td>NaN</td>\n",
       "      <td>Hewlett Packard Enterprise</td>\n",
       "      <td>sql</td>\n",
       "      <td>{'analyst_tools': ['power bi', 'tableau'], 'pr...</td>\n",
       "    </tr>\n",
       "    <tr>\n",
       "      <th>1</th>\n",
       "      <td>Data Analyst</td>\n",
       "      <td>Data Analyst</td>\n",
       "      <td>Guadalajara, Jalisco, Mexico</td>\n",
       "      <td>via BeBee México</td>\n",
       "      <td>Full-time</td>\n",
       "      <td>False</td>\n",
       "      <td>Mexico</td>\n",
       "      <td>2023-01-14 13:18:07</td>\n",
       "      <td>False</td>\n",
       "      <td>False</td>\n",
       "      <td>Mexico</td>\n",
       "      <td>NaN</td>\n",
       "      <td>NaN</td>\n",
       "      <td>NaN</td>\n",
       "      <td>Hewlett Packard Enterprise</td>\n",
       "      <td>nosql</td>\n",
       "      <td>{'analyst_tools': ['power bi', 'tableau'], 'pr...</td>\n",
       "    </tr>\n",
       "  </tbody>\n",
       "</table>\n",
       "</div>"
      ],
      "text/plain": [
       "        job_title_short                                          job_title  \\\n",
       "0  Senior Data Engineer  Senior Clinical Data Engineer / Principal Clin...   \n",
       "1          Data Analyst                                       Data Analyst   \n",
       "1          Data Analyst                                       Data Analyst   \n",
       "1          Data Analyst                                       Data Analyst   \n",
       "1          Data Analyst                                       Data Analyst   \n",
       "\n",
       "                   job_location           job_via job_schedule_type  \\\n",
       "0                 Watertown, CT   via Work Nearby         Full-time   \n",
       "1  Guadalajara, Jalisco, Mexico  via BeBee México         Full-time   \n",
       "1  Guadalajara, Jalisco, Mexico  via BeBee México         Full-time   \n",
       "1  Guadalajara, Jalisco, Mexico  via BeBee México         Full-time   \n",
       "1  Guadalajara, Jalisco, Mexico  via BeBee México         Full-time   \n",
       "\n",
       "   job_work_from_home       search_location     job_posted_date  \\\n",
       "0               False  Texas, United States 2023-06-16 13:44:15   \n",
       "1               False                Mexico 2023-01-14 13:18:07   \n",
       "1               False                Mexico 2023-01-14 13:18:07   \n",
       "1               False                Mexico 2023-01-14 13:18:07   \n",
       "1               False                Mexico 2023-01-14 13:18:07   \n",
       "\n",
       "   job_no_degree_mention  job_health_insurance    job_country salary_rate  \\\n",
       "0                  False                 False  United States         NaN   \n",
       "1                  False                 False         Mexico         NaN   \n",
       "1                  False                 False         Mexico         NaN   \n",
       "1                  False                 False         Mexico         NaN   \n",
       "1                  False                 False         Mexico         NaN   \n",
       "\n",
       "   salary_year_avg  salary_hour_avg                company_name job_skills  \\\n",
       "0              NaN              NaN        Boehringer Ingelheim        NaN   \n",
       "1              NaN              NaN  Hewlett Packard Enterprise          r   \n",
       "1              NaN              NaN  Hewlett Packard Enterprise     python   \n",
       "1              NaN              NaN  Hewlett Packard Enterprise        sql   \n",
       "1              NaN              NaN  Hewlett Packard Enterprise      nosql   \n",
       "\n",
       "                                     job_type_skills  \n",
       "0                                                NaN  \n",
       "1  {'analyst_tools': ['power bi', 'tableau'], 'pr...  \n",
       "1  {'analyst_tools': ['power bi', 'tableau'], 'pr...  \n",
       "1  {'analyst_tools': ['power bi', 'tableau'], 'pr...  \n",
       "1  {'analyst_tools': ['power bi', 'tableau'], 'pr...  "
      ]
     },
     "execution_count": 11,
     "metadata": {},
     "output_type": "execute_result"
    }
   ],
   "source": [
    "df.explode('job_skills').head()\n",
    "\n",
    "# in job_skills column, one cell only has one skill\n"
   ]
  },
  {
   "cell_type": "code",
   "execution_count": 15,
   "id": "a774700b",
   "metadata": {},
   "outputs": [
    {
     "data": {
      "text/plain": [
       "<Axes: xlabel='job_skills'>"
      ]
     },
     "execution_count": 15,
     "metadata": {},
     "output_type": "execute_result"
    },
    {
     "data": {
      "image/png": "[encoded data removed]",
      "text/plain": [
       "<Figure size 640x480 with 1 Axes>"
      ]
     },
     "metadata": {},
     "output_type": "display_data"
    }
   ],
   "source": [
    "df_exploded = df.explode('job_skills')\n",
    "df_exploded['job_skills'].value_counts().head().plot(kind='bar')"
   ]
  },
  {
   "cell_type": "code",
   "execution_count": 16,
   "id": "c6a27a06",
   "metadata": {},
   "outputs": [
    {
     "data": {
      "text/plain": [
       "job_title_short    job_skills\n",
       "Business Analyst   airflow        318\n",
       "                   airtable        17\n",
       "                   alteryx       1078\n",
       "                   angular         87\n",
       "                   ansible        120\n",
       "                                 ... \n",
       "Software Engineer  wrike            4\n",
       "                   wsl             13\n",
       "                   xamarin         35\n",
       "                   yarn           145\n",
       "                   zoom           229\n",
       "Length: 2256, dtype: int64"
      ]
     },
     "execution_count": 16,
     "metadata": {},
     "output_type": "execute_result"
    }
   ],
   "source": [
    "skills_count = df_exploded.groupby(['job_title_short','job_skills']).size()"
   ]
  },
  {
   "cell_type": "code",
   "execution_count": 18,
   "id": "0fba62cb",
   "metadata": {},
   "outputs": [
    {
     "data": {
      "text/html": [
       "<div>\n",
       "<style scoped>\n",
       "    .dataframe tbody tr th:only-of-type {\n",
       "        vertical-align: middle;\n",
       "    }\n",
       "\n",
       "    .dataframe tbody tr th {\n",
       "        vertical-align: top;\n",
       "    }\n",
       "\n",
       "    .dataframe thead th {\n",
       "        text-align: right;\n",
       "    }\n",
       "</style>\n",
       "<table border=\"1\" class=\"dataframe\">\n",
       "  <thead>\n",
       "    <tr style=\"text-align: right;\">\n",
       "      <th></th>\n",
       "      <th>job_title_short</th>\n",
       "      <th>job_skills</th>\n",
       "      <th>skill_count</th>\n",
       "    </tr>\n",
       "  </thead>\n",
       "  <tbody>\n",
       "    <tr>\n",
       "      <th>1066</th>\n",
       "      <td>Data Scientist</td>\n",
       "      <td>python</td>\n",
       "      <td>113711</td>\n",
       "    </tr>\n",
       "    <tr>\n",
       "      <th>865</th>\n",
       "      <td>Data Engineer</td>\n",
       "      <td>sql</td>\n",
       "      <td>113130</td>\n",
       "    </tr>\n",
       "    <tr>\n",
       "      <th>830</th>\n",
       "      <td>Data Engineer</td>\n",
       "      <td>python</td>\n",
       "      <td>108022</td>\n",
       "    </tr>\n",
       "    <tr>\n",
       "      <th>625</th>\n",
       "      <td>Data Analyst</td>\n",
       "      <td>sql</td>\n",
       "      <td>92428</td>\n",
       "    </tr>\n",
       "    <tr>\n",
       "      <th>1101</th>\n",
       "      <td>Data Scientist</td>\n",
       "      <td>sql</td>\n",
       "      <td>78982</td>\n",
       "    </tr>\n",
       "    <tr>\n",
       "      <th>...</th>\n",
       "      <td>...</td>\n",
       "      <td>...</td>\n",
       "      <td>...</td>\n",
       "    </tr>\n",
       "    <tr>\n",
       "      <th>266</th>\n",
       "      <td>Cloud Engineer</td>\n",
       "      <td>delphi</td>\n",
       "      <td>1</td>\n",
       "    </tr>\n",
       "    <tr>\n",
       "      <th>1920</th>\n",
       "      <td>Senior Data Scientist</td>\n",
       "      <td>objective-c</td>\n",
       "      <td>1</td>\n",
       "    </tr>\n",
       "    <tr>\n",
       "      <th>1400</th>\n",
       "      <td>Senior Data Analyst</td>\n",
       "      <td>couchdb</td>\n",
       "      <td>1</td>\n",
       "    </tr>\n",
       "    <tr>\n",
       "      <th>298</th>\n",
       "      <td>Cloud Engineer</td>\n",
       "      <td>haskell</td>\n",
       "      <td>1</td>\n",
       "    </tr>\n",
       "    <tr>\n",
       "      <th>631</th>\n",
       "      <td>Data Analyst</td>\n",
       "      <td>suse</td>\n",
       "      <td>1</td>\n",
       "    </tr>\n",
       "  </tbody>\n",
       "</table>\n",
       "<p>2256 rows × 3 columns</p>\n",
       "</div>"
      ],
      "text/plain": [
       "            job_title_short   job_skills  skill_count\n",
       "1066         Data Scientist       python       113711\n",
       "865           Data Engineer          sql       113130\n",
       "830           Data Engineer       python       108022\n",
       "625            Data Analyst          sql        92428\n",
       "1101         Data Scientist          sql        78982\n",
       "...                     ...          ...          ...\n",
       "266          Cloud Engineer       delphi            1\n",
       "1920  Senior Data Scientist  objective-c            1\n",
       "1400    Senior Data Analyst      couchdb            1\n",
       "298          Cloud Engineer      haskell            1\n",
       "631            Data Analyst         suse            1\n",
       "\n",
       "[2256 rows x 3 columns]"
      ]
     },
     "execution_count": 18,
     "metadata": {},
     "output_type": "execute_result"
    }
   ],
   "source": [
    "skills_count = df_exploded.groupby(['job_title_short','job_skills']).size()\n",
    "df_skills_count = skills_count.reset_index(name='skill_count')\n",
    "df_skills_count = df_skills_count.sort_values(by='skill_count',ascending=False)\n",
    "df_skills_count "
   ]
  },
  {
   "cell_type": "markdown",
   "id": "b2787bef",
   "metadata": {},
   "source": [
    "Get the top 10 skills for data analyst"
   ]
  },
  {
   "cell_type": "code",
   "execution_count": 24,
   "id": "c590dd6e",
   "metadata": {},
   "outputs": [
    {
     "data": {
      "text/plain": [
       "<Axes: ylabel='job_skills'>"
      ]
     },
     "execution_count": 24,
     "metadata": {},
     "output_type": "execute_result"
    },
    {
     "data": {
      "image/png": "[encoded data removed]",
      "text/plain": [
       "<Figure size 640x480 with 1 Axes>"
      ]
     },
     "metadata": {},
     "output_type": "display_data"
    }
   ],
   "source": [
    "job_title='Data Analyst'\n",
    "top_skills=10\n",
    "\n",
    "df_skill_da=df_skills_count[df_skills_count['job_title_short']==job_title].head(top_skills)\n",
    "\n",
    "df_skill_da=df_skill_da.sort_values(by='skill_count')\n",
    "\n",
    "df_skill_da.plot(kind='barh',x='job_skills',y='skill_count')"
   ]
  },
  {
   "cell_type": "markdown",
   "id": "d159bc0a",
   "metadata": {},
   "source": [
    "## plt.gca().invert_yaxis()\n",
    "- plt.gca() means \"get current axes\" — it returns the current Axes object.\n",
    "- .invert_yaxis() is a method on an Axes object that flips the y-axis."
   ]
  },
  {
   "cell_type": "code",
   "execution_count": 33,
   "id": "68208db7",
   "metadata": {},
   "outputs": [
    {
     "data": {
      "image/png": "[encoded data removed]",
      "text/plain": [
       "<Figure size 640x480 with 1 Axes>"
      ]
     },
     "metadata": {},
     "output_type": "display_data"
    }
   ],
   "source": [
    "import matplotlib.pyplot as plt\n",
    "\n",
    "job_title='Data Engineer'\n",
    "top_skills=15\n",
    "\n",
    "df_skill_de=df_skills_count[df_skills_count['job_title_short']==job_title].head(top_skills)\n",
    "\n",
    "df_skill_de.plot(kind='barh',x='job_skills',y='skill_count')\n",
    "\n",
    "plt.gca().invert_yaxis()\n",
    "plt.title(f'Top {top_skills} Skills for {job_title}s')\n",
    "plt.ylabel('')\n",
    "plt.xlabel('Job Posting Count')\n",
    "plt.legend().set_visible(False) # remove the legend\n",
    "\n",
    "plt.show()\n"
   ]
  },
  {
   "cell_type": "markdown",
   "id": "4390e532",
   "metadata": {},
   "source": [
    "## Investigate Trending Skills"
   ]
  },
  {
   "cell_type": "code",
   "execution_count": 55,
   "id": "501c9677",
   "metadata": {},
   "outputs": [],
   "source": [
    "# import libraries\n",
    "import pandas as pd\n",
    "import ast\n",
    "import matplotlib.pyplot as plt\n",
    "\n",
    "#import data\n",
    "df=pd.read_csv('/Users/abby/Python_data_project/2_Advanced/data_jobs.csv')\n",
    "\n",
    "# data cleanup\n",
    "df['job_posted_date']=pd.to_datetime(df['job_posted_date'])\n",
    "# Convert string representation to actual list, checking for NaN values first\n",
    "df['job_skills']=df['job_skills'].apply(lambda x: ast.literal_eval(x) if pd.notna(x) else x)"
   ]
  },
  {
   "cell_type": "code",
   "execution_count": 56,
   "id": "99ca8764",
   "metadata": {},
   "outputs": [
    {
     "data": {
      "image/png": "[encoded data removed]",
      "text/plain": [
       "<Figure size 640x480 with 1 Axes>"
      ]
     },
     "metadata": {},
     "output_type": "display_data"
    }
   ],
   "source": [
    "df_DA = df[df['job_title_short']=='Data Analyst'].copy()\n",
    "df_DA['job_posted_month_num']=df_DA['job_posted_date'].dt.month\n",
    "df_DA_explode = df_DA.explode('job_skills')\n",
    "df_DA_pivot = df_DA_explode.pivot_table(index='job_posted_month_num',columns='job_skills',aggfunc='size',fill_value=0)\n",
    "\n",
    "# create a new row to calculate the total\n",
    "df_DA_pivot.loc['Total']=df_DA_pivot.sum()\n",
    "\n",
    "# sort the value by total\n",
    "Skills_in_order=df_DA_pivot.loc['Total'].sort_values(ascending=False).index\n",
    "# Skills_in_order is now a list of skill column names sorted from most to least popular.\n",
    "\n",
    "# Need the pivot table to display the columns in this order\n",
    "df_DA_pivot= df_DA_pivot[Skills_in_order]\n",
    "\n",
    "# Drop the row which count the total num\n",
    "df_DA_pivot = df_DA_pivot.drop('Total')\n",
    "\n",
    "# only include the top 5 skills\n",
    "df_DA_pivot.iloc[:,:5].plot(kind='line')\n",
    "plt.title('Top 5 Skills for Data Analysts per Month')\n",
    "plt.ylabel('Count')\n",
    "plt.xlabel('')\n",
    "plt.show()\n"
   ]
  },
  {
   "cell_type": "markdown",
   "id": "a5f0fe35",
   "metadata": {},
   "source": [
    "#### In pivot table, the column at position 0 is Sql, not the index job_posted_month_num"
   ]
  },
  {
   "cell_type": "markdown",
   "id": "0b424c9b",
   "metadata": {},
   "source": [
    "<df_DA_pivot.loc['Total'] = df_DA_pivot.sum()>\n",
    "1. 'Total' is the row label you want to create or access.\n",
    "2. Here, you are creating a new row named 'Total' in df_DA_pivot.\n",
    "3. The right side df_DA_pivot.sum() calculates the sum of each column (by default, sums down the rows).\n",
    "4. This sum is assigned as the values for the new 'Total' row."
   ]
  },
  {
   "cell_type": "markdown",
   "id": "d14bf3ee",
   "metadata": {},
   "source": [
    "<df.loc[row_label, column_label]>\n",
    "- You can use it to select rows and columns by their labels.\n",
    "- If you provide only one label like df.loc[row_label], it selects the entire row with that label.\n",
    "- You can also assign new values to a row or column using .loc."
   ]
  },
  {
   "cell_type": "markdown",
   "id": "526ede49",
   "metadata": {},
   "source": [
    "##### The pivot_table function itself **doesn’t** have a parameter to **specify column order**\n",
    "\n",
    "#### How to reorder columns after creating the pivot table:\n",
    "\n",
    "1. Create the pivot table normally, for example:\n",
    "\n",
    "<df_pivot = df.pivot_table(index='month', columns='skill', aggfunc='size', fill_value=0)>\n",
    "\n",
    "2. Reorder columns by passing a list of columns in the desired order:\n",
    "\n",
    "<desired_order = ['python', 'sql', 'excel', 'tableau', 'power bi']  \n",
    "df_pivot = df_pivot[desired_order]>\n",
    "\n",
    "- This will reorder the columns of the pivot table according to your list.  \n",
    "\n",
    "- Make sure all the columns in your list exist in the DataFrame; otherwise, pandas will raise a KeyError."
   ]
  },
  {
   "cell_type": "markdown",
   "id": "6362dc5d",
   "metadata": {},
   "source": [
    "## Practice 1. Bar Plot of Top Skills for Cloud Engineer\n",
    "\n",
    "Using the ast library, clean up the job_skills column to be of the list data type in preparation for exploding this column.\n",
    "\n",
    "Explode the job_skills column in the DataFrame and create a bar plot using pandas of the top 10 most common skills for Cloud Engineer.\n",
    "Add labels for the x-axis (label as 'Skills'), y-axis (label as 'Count') and a title (set as 'Top 10 Most Common Skills for Cloud Engineers') for the plot."
   ]
  },
  {
   "cell_type": "code",
   "execution_count": 63,
   "id": "ebb64b33",
   "metadata": {},
   "outputs": [
    {
     "data": {
      "image/png": "[encoded data removed]",
      "text/plain": [
       "<Figure size 640x480 with 1 Axes>"
      ]
     },
     "metadata": {},
     "output_type": "display_data"
    }
   ],
   "source": [
    "# import libraries\n",
    "import pandas as pd\n",
    "import ast\n",
    "import matplotlib.pyplot as plt\n",
    "\n",
    "#import data\n",
    "df=pd.read_csv('/Users/abby/Python_data_project/2_Advanced/data_jobs.csv')\n",
    "\n",
    "# data cleanup\n",
    "df['job_posted_date']=pd.to_datetime(df['job_posted_date'])\n",
    "# Convert string representation to actual list, checking for NaN values first\n",
    "df['job_skills']=df['job_skills'].apply(lambda x: ast.literal_eval(x) if pd.notna(x) else x)\n",
    "\n",
    "# filter df for jobs of Cloud Engineer\n",
    "df_ce = df[df['job_title_short']=='Cloud Engineer'].copy()\n",
    "\n",
    "# explode job_skills column\n",
    "df_explode = df_ce.explode('job_skills')\n",
    "\n",
    "# calculate the count of each skills\n",
    "df_count= df_explode.groupby('job_skills').size().sort_values(ascending=False)\n",
    "df_count=df_count.reset_index(name='skills_count')\n",
    "# or just df_count= df_explode['job_skills'].value_counts()\n",
    "\n",
    "# create bar chart for top 10 most common skills\n",
    "df_count.head(10).plot(kind='bar',x='job_skills',y='skills_count')\n",
    "\n",
    "\n",
    "plt.xlabel('Skills')\n",
    "plt.ylabel('Count')\n",
    "plt.title('Top 10 Most Common Skills for Cloud Engineers')\n",
    "plt.show()"
   ]
  },
  {
   "cell_type": "markdown",
   "id": "c5edb097",
   "metadata": {},
   "source": [
    "## Practice 2. Average Salary by Skill\n",
    "\n",
    "Explode the job_skills column in the DataFrame and calculate the average salary for each skill. Display the top 5 skills with the highest average salary."
   ]
  },
  {
   "cell_type": "code",
   "execution_count": 66,
   "id": "b4228f8d",
   "metadata": {},
   "outputs": [
    {
     "data": {
      "text/html": [
       "<div>\n",
       "<style scoped>\n",
       "    .dataframe tbody tr th:only-of-type {\n",
       "        vertical-align: middle;\n",
       "    }\n",
       "\n",
       "    .dataframe tbody tr th {\n",
       "        vertical-align: top;\n",
       "    }\n",
       "\n",
       "    .dataframe thead th {\n",
       "        text-align: right;\n",
       "    }\n",
       "</style>\n",
       "<table border=\"1\" class=\"dataframe\">\n",
       "  <thead>\n",
       "    <tr style=\"text-align: right;\">\n",
       "      <th></th>\n",
       "      <th>job_skills</th>\n",
       "      <th>salary_year_avg</th>\n",
       "    </tr>\n",
       "  </thead>\n",
       "  <tbody>\n",
       "    <tr>\n",
       "      <th>46</th>\n",
       "      <td>debian</td>\n",
       "      <td>196500.000000</td>\n",
       "    </tr>\n",
       "    <tr>\n",
       "      <th>177</th>\n",
       "      <td>ringcentral</td>\n",
       "      <td>182500.000000</td>\n",
       "    </tr>\n",
       "    <tr>\n",
       "      <th>114</th>\n",
       "      <td>lua</td>\n",
       "      <td>170500.000000</td>\n",
       "    </tr>\n",
       "    <tr>\n",
       "      <th>126</th>\n",
       "      <td>mongo</td>\n",
       "      <td>169526.929749</td>\n",
       "    </tr>\n",
       "    <tr>\n",
       "      <th>54</th>\n",
       "      <td>dplyr</td>\n",
       "      <td>160667.210526</td>\n",
       "    </tr>\n",
       "  </tbody>\n",
       "</table>\n",
       "</div>"
      ],
      "text/plain": [
       "      job_skills  salary_year_avg\n",
       "46        debian    196500.000000\n",
       "177  ringcentral    182500.000000\n",
       "114          lua    170500.000000\n",
       "126        mongo    169526.929749\n",
       "54         dplyr    160667.210526"
      ]
     },
     "execution_count": 66,
     "metadata": {},
     "output_type": "execute_result"
    }
   ],
   "source": [
    "# import libraries\n",
    "import pandas as pd\n",
    "import ast\n",
    "import matplotlib.pyplot as plt\n",
    "\n",
    "#import data\n",
    "df=pd.read_csv('/Users/abby/Python_data_project/2_Advanced/data_jobs.csv')\n",
    "\n",
    "# data cleanup\n",
    "df['job_posted_date']=pd.to_datetime(df['job_posted_date'])\n",
    "# Convert string representation to actual list, checking for NaN values first\n",
    "df['job_skills']=df['job_skills'].apply(lambda x: ast.literal_eval(x) if pd.notna(x) else x)\n",
    "\n",
    "df_explode = df.explode('job_skills')\n",
    "df_skill_avg = df_explode.groupby('job_skills')['salary_year_avg'].mean().reset_index()\n",
    "df_skill = df_skill_avg.sort_values(by='salary_year_avg',ascending=False).head()\n",
    "df_skill"
   ]
  },
  {
   "cell_type": "markdown",
   "id": "33ed67ea",
   "metadata": {},
   "source": [
    "| Concept      | Explanation                                                           |\n",
    "| ------------ | --------------------------------------------------------------------- |\n",
    "| `groupby()`  | Groups rows based on one or more columns                              |\n",
    "| Result index | By default, the group key(s) become the **index** of the result       |\n",
    "| How to reset | Use `.reset_index()` if you want to turn the index back into a column |\n",
    "\n",
    "except the keys: \n",
    "- one column: then it's a series\n",
    "- more than one column: then it's a dataframe"
   ]
  },
  {
   "cell_type": "markdown",
   "id": "c2028db0",
   "metadata": {},
   "source": [
    "## Practice 3. Unique Skills Count\n",
    "\n",
    "Calculate the number of unique skills required for each job_title_short.\n",
    "\n",
    "- Explode the job_skills column\n",
    "\n",
    "- Group by job_title_short\n",
    "\n",
    "- Count unique skills per title (i.e., num_unique_skills)\n",
    "\n",
    "- Rename the result column to num_unique_skills and show the first 5 rows"
   ]
  },
  {
   "cell_type": "code",
   "execution_count": 72,
   "id": "76e96706",
   "metadata": {},
   "outputs": [
    {
     "data": {
      "text/html": [
       "<div>\n",
       "<style scoped>\n",
       "    .dataframe tbody tr th:only-of-type {\n",
       "        vertical-align: middle;\n",
       "    }\n",
       "\n",
       "    .dataframe tbody tr th {\n",
       "        vertical-align: top;\n",
       "    }\n",
       "\n",
       "    .dataframe thead th {\n",
       "        text-align: right;\n",
       "    }\n",
       "</style>\n",
       "<table border=\"1\" class=\"dataframe\">\n",
       "  <thead>\n",
       "    <tr style=\"text-align: right;\">\n",
       "      <th></th>\n",
       "      <th>job_title_short</th>\n",
       "      <th>num_unique_skills</th>\n",
       "    </tr>\n",
       "  </thead>\n",
       "  <tbody>\n",
       "    <tr>\n",
       "      <th>0</th>\n",
       "      <td>Business Analyst</td>\n",
       "      <td>223</td>\n",
       "    </tr>\n",
       "    <tr>\n",
       "      <th>1</th>\n",
       "      <td>Cloud Engineer</td>\n",
       "      <td>213</td>\n",
       "    </tr>\n",
       "    <tr>\n",
       "      <th>2</th>\n",
       "      <td>Data Analyst</td>\n",
       "      <td>235</td>\n",
       "    </tr>\n",
       "    <tr>\n",
       "      <th>3</th>\n",
       "      <td>Data Engineer</td>\n",
       "      <td>239</td>\n",
       "    </tr>\n",
       "    <tr>\n",
       "      <th>4</th>\n",
       "      <td>Data Scientist</td>\n",
       "      <td>237</td>\n",
       "    </tr>\n",
       "  </tbody>\n",
       "</table>\n",
       "</div>"
      ],
      "text/plain": [
       "    job_title_short  num_unique_skills\n",
       "0  Business Analyst                223\n",
       "1    Cloud Engineer                213\n",
       "2      Data Analyst                235\n",
       "3     Data Engineer                239\n",
       "4    Data Scientist                237"
      ]
     },
     "execution_count": 72,
     "metadata": {},
     "output_type": "execute_result"
    }
   ],
   "source": [
    "# import libraries\n",
    "import pandas as pd\n",
    "import ast\n",
    "import matplotlib.pyplot as plt\n",
    "\n",
    "#import data\n",
    "df=pd.read_csv('/Users/abby/Python_data_project/2_Advanced/data_jobs.csv')\n",
    "\n",
    "# data cleanup\n",
    "df['job_posted_date']=pd.to_datetime(df['job_posted_date'])\n",
    "# Convert string representation to actual list, checking for NaN values first\n",
    "df['job_skills']=df['job_skills'].apply(lambda x: ast.literal_eval(x) if pd.notna(x) else x)\n",
    "\n",
    "df_explode = df.explode('job_skills')\n",
    "\n",
    "df_unique = df_explode.groupby('job_title_short')['job_skills'].nunique().reset_index(name='num_unique_skills')\n",
    "\n",
    "df_unique.head()\n"
   ]
  },
  {
   "cell_type": "markdown",
   "id": "c830dc09",
   "metadata": {},
   "source": [
    "| Method       | What it returns                           |\n",
    "| ------------ | ----------------------------------------- |\n",
    "| `.unique()`  | Array of unique values per group          |\n",
    "| `.nunique()` | Number (count) of unique values per group |\n"
   ]
  }
 ],
 "metadata": {
  "kernelspec": {
   "display_name": "python_course",
   "language": "python",
   "name": "python3"
  },
  "language_info": {
   "codemirror_mode": {
    "name": "ipython",
    "version": 3
   },
   "file_extension": ".py",
   "mimetype": "text/x-python",
   "name": "python",
   "nbconvert_exporter": "python",
   "pygments_lexer": "ipython3",
   "version": "3.11.9"
  }
 },
 "nbformat": 4,
 "nbformat_minor": 5
}
