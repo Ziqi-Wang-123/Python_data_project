{
 "cells": [
  {
   "cell_type": "markdown",
   "id": "9841c160",
   "metadata": {},
   "source": [
    "# Data Cleaning\n",
    "- change data type\n",
    "- fill nan value\n",
    "- drop duplicates"
   ]
  },
  {
   "cell_type": "code",
   "execution_count": null,
   "id": "e225e399",
   "metadata": {},
   "outputs": [
    {
     "data": {
      "text/plain": [
       "dtype('O')"
      ]
     },
     "execution_count": 31,
     "metadata": {},
     "output_type": "execute_result"
    }
   ],
   "source": [
    "import pandas as pd\n",
    "\n",
    "df=pd.read_csv('/Users/abby/Python_data_project/2_Advanced/data_jobs.csv')\n",
    "\n",
    "df['job_posted_date'].dtype #.dtype is a property, not a method, no need () to call"
   ]
  },
  {
   "cell_type": "markdown",
   "id": "1a8f4218",
   "metadata": {},
   "source": [
    "- dtype('O') means the data type is object\n",
    "- 'O' is short for object dtype, which is a generic way to store any Python object\n",
    "\n",
    "🔹 What does object dtype usually mean in pandas?\n",
    "- Strings (most common)\n",
    "- Mixed data types\n",
    "- Python objects (e.g. lists, dictionaries, etc.)"
   ]
  },
  {
   "cell_type": "code",
   "execution_count": 1,
   "id": "5167b7b2",
   "metadata": {},
   "outputs": [],
   "source": [
    "import pandas as pd\n",
    "\n",
    "df=pd.read_csv('/Users/abby/Python_data_project/2_Advanced/data_jobs.csv')\n",
    "\n",
    "df['job_posted_date']=pd.to_datetime(df['job_posted_date'])"
   ]
  },
  {
   "cell_type": "markdown",
   "id": "777bce29",
   "metadata": {},
   "source": [
    "#### dt.to_period\n",
    "-  df['year_month'] = df['date_column'].dt.to_period('M')\n",
    "- This will give you a Period object like 2025-06.\n",
    "\n"
   ]
  },
  {
   "cell_type": "markdown",
   "id": "a9e78c68",
   "metadata": {},
   "source": []
  },
  {
   "cell_type": "code",
   "execution_count": 3,
   "id": "9932e87f",
   "metadata": {},
   "outputs": [
    {
     "data": {
      "text/html": [
       "<div>\n",
       "<style scoped>\n",
       "    .dataframe tbody tr th:only-of-type {\n",
       "        vertical-align: middle;\n",
       "    }\n",
       "\n",
       "    .dataframe tbody tr th {\n",
       "        vertical-align: top;\n",
       "    }\n",
       "\n",
       "    .dataframe thead th {\n",
       "        text-align: right;\n",
       "    }\n",
       "</style>\n",
       "<table border=\"1\" class=\"dataframe\">\n",
       "  <thead>\n",
       "    <tr style=\"text-align: right;\">\n",
       "      <th></th>\n",
       "      <th>salary_year_avg</th>\n",
       "      <th>salary_hour_avg</th>\n",
       "    </tr>\n",
       "  </thead>\n",
       "  <tbody>\n",
       "    <tr>\n",
       "      <th>0</th>\n",
       "      <td>NaN</td>\n",
       "      <td>NaN</td>\n",
       "    </tr>\n",
       "    <tr>\n",
       "      <th>1</th>\n",
       "      <td>NaN</td>\n",
       "      <td>NaN</td>\n",
       "    </tr>\n",
       "    <tr>\n",
       "      <th>2</th>\n",
       "      <td>NaN</td>\n",
       "      <td>NaN</td>\n",
       "    </tr>\n",
       "    <tr>\n",
       "      <th>3</th>\n",
       "      <td>NaN</td>\n",
       "      <td>NaN</td>\n",
       "    </tr>\n",
       "    <tr>\n",
       "      <th>4</th>\n",
       "      <td>NaN</td>\n",
       "      <td>NaN</td>\n",
       "    </tr>\n",
       "    <tr>\n",
       "      <th>5</th>\n",
       "      <td>NaN</td>\n",
       "      <td>NaN</td>\n",
       "    </tr>\n",
       "    <tr>\n",
       "      <th>6</th>\n",
       "      <td>NaN</td>\n",
       "      <td>NaN</td>\n",
       "    </tr>\n",
       "    <tr>\n",
       "      <th>7</th>\n",
       "      <td>NaN</td>\n",
       "      <td>NaN</td>\n",
       "    </tr>\n",
       "    <tr>\n",
       "      <th>8</th>\n",
       "      <td>NaN</td>\n",
       "      <td>NaN</td>\n",
       "    </tr>\n",
       "    <tr>\n",
       "      <th>9</th>\n",
       "      <td>NaN</td>\n",
       "      <td>NaN</td>\n",
       "    </tr>\n",
       "    <tr>\n",
       "      <th>10</th>\n",
       "      <td>NaN</td>\n",
       "      <td>NaN</td>\n",
       "    </tr>\n",
       "  </tbody>\n",
       "</table>\n",
       "</div>"
      ],
      "text/plain": [
       "    salary_year_avg  salary_hour_avg\n",
       "0               NaN              NaN\n",
       "1               NaN              NaN\n",
       "2               NaN              NaN\n",
       "3               NaN              NaN\n",
       "4               NaN              NaN\n",
       "5               NaN              NaN\n",
       "6               NaN              NaN\n",
       "7               NaN              NaN\n",
       "8               NaN              NaN\n",
       "9               NaN              NaN\n",
       "10              NaN              NaN"
      ]
     },
     "execution_count": 3,
     "metadata": {},
     "output_type": "execute_result"
    }
   ],
   "source": [
    "df.loc[:10,'salary_year_avg':'salary_hour_avg']"
   ]
  },
  {
   "cell_type": "code",
   "execution_count": 5,
   "id": "fc607ad6",
   "metadata": {},
   "outputs": [
    {
     "data": {
      "text/plain": [
       "115000.0"
      ]
     },
     "execution_count": 5,
     "metadata": {},
     "output_type": "execute_result"
    }
   ],
   "source": [
    "median_salary_year=df['salary_year_avg'].median()\n",
    "median_salary_year"
   ]
  },
  {
   "cell_type": "code",
   "execution_count": 6,
   "id": "f2d9c975",
   "metadata": {},
   "outputs": [
    {
     "data": {
      "text/plain": [
       "45.97999954223633"
      ]
     },
     "execution_count": 6,
     "metadata": {},
     "output_type": "execute_result"
    }
   ],
   "source": [
    "median_salary_hour=df['salary_hour_avg'].median()\n",
    "median_salary_hour"
   ]
  },
  {
   "cell_type": "markdown",
   "id": "cf2e8286",
   "metadata": {},
   "source": [
    "## Fill NaN values with median number"
   ]
  },
  {
   "cell_type": "code",
   "execution_count": null,
   "id": "c9c5449f",
   "metadata": {},
   "outputs": [
    {
     "data": {
      "text/html": [
       "<div>\n",
       "<style scoped>\n",
       "    .dataframe tbody tr th:only-of-type {\n",
       "        vertical-align: middle;\n",
       "    }\n",
       "\n",
       "    .dataframe tbody tr th {\n",
       "        vertical-align: top;\n",
       "    }\n",
       "\n",
       "    .dataframe thead th {\n",
       "        text-align: right;\n",
       "    }\n",
       "</style>\n",
       "<table border=\"1\" class=\"dataframe\">\n",
       "  <thead>\n",
       "    <tr style=\"text-align: right;\">\n",
       "      <th></th>\n",
       "      <th>salary_year_avg</th>\n",
       "      <th>salary_hour_avg</th>\n",
       "    </tr>\n",
       "  </thead>\n",
       "  <tbody>\n",
       "    <tr>\n",
       "      <th>0</th>\n",
       "      <td>115000.0</td>\n",
       "      <td>45.98</td>\n",
       "    </tr>\n",
       "    <tr>\n",
       "      <th>1</th>\n",
       "      <td>115000.0</td>\n",
       "      <td>45.98</td>\n",
       "    </tr>\n",
       "    <tr>\n",
       "      <th>2</th>\n",
       "      <td>115000.0</td>\n",
       "      <td>45.98</td>\n",
       "    </tr>\n",
       "    <tr>\n",
       "      <th>3</th>\n",
       "      <td>115000.0</td>\n",
       "      <td>45.98</td>\n",
       "    </tr>\n",
       "    <tr>\n",
       "      <th>4</th>\n",
       "      <td>115000.0</td>\n",
       "      <td>45.98</td>\n",
       "    </tr>\n",
       "    <tr>\n",
       "      <th>5</th>\n",
       "      <td>115000.0</td>\n",
       "      <td>45.98</td>\n",
       "    </tr>\n",
       "    <tr>\n",
       "      <th>6</th>\n",
       "      <td>115000.0</td>\n",
       "      <td>45.98</td>\n",
       "    </tr>\n",
       "    <tr>\n",
       "      <th>7</th>\n",
       "      <td>115000.0</td>\n",
       "      <td>45.98</td>\n",
       "    </tr>\n",
       "    <tr>\n",
       "      <th>8</th>\n",
       "      <td>115000.0</td>\n",
       "      <td>45.98</td>\n",
       "    </tr>\n",
       "    <tr>\n",
       "      <th>9</th>\n",
       "      <td>115000.0</td>\n",
       "      <td>45.98</td>\n",
       "    </tr>\n",
       "    <tr>\n",
       "      <th>10</th>\n",
       "      <td>115000.0</td>\n",
       "      <td>45.98</td>\n",
       "    </tr>\n",
       "  </tbody>\n",
       "</table>\n",
       "</div>"
      ],
      "text/plain": [
       "    salary_year_avg  salary_hour_avg\n",
       "0          115000.0            45.98\n",
       "1          115000.0            45.98\n",
       "2          115000.0            45.98\n",
       "3          115000.0            45.98\n",
       "4          115000.0            45.98\n",
       "5          115000.0            45.98\n",
       "6          115000.0            45.98\n",
       "7          115000.0            45.98\n",
       "8          115000.0            45.98\n",
       "9          115000.0            45.98\n",
       "10         115000.0            45.98"
      ]
     },
     "execution_count": 10,
     "metadata": {},
     "output_type": "execute_result"
    }
   ],
   "source": [
    "df_filled=df\n",
    "df_filled['salary_year_avg']=df_filled['salary_year_avg'].fillna(median_salary_year) \n",
    "#fill and then assign back to the original variable\n",
    "df_filled['salary_hour_avg']=df_filled['salary_hour_avg'].fillna(median_salary_hour)\n",
    "df_filled.loc[:10,'salary_year_avg':'salary_hour_avg']"
   ]
  },
  {
   "cell_type": "markdown",
   "id": "40677a0f",
   "metadata": {},
   "source": [
    "## Drop duplicate values in the dataframe"
   ]
  },
  {
   "cell_type": "code",
   "execution_count": 14,
   "id": "53aaba59",
   "metadata": {},
   "outputs": [
    {
     "name": "stdout",
     "output_type": "stream",
     "text": [
      "The length of original dataframe: 785741\n",
      "The length of filled dataframe: 785741\n",
      "The length of dropped duplicates dataframe: 785640\n",
      "Rows are dropped: 101\n"
     ]
    }
   ],
   "source": [
    "df_unique=df_filled\n",
    "df_unique = df_unique.drop_duplicates()\n",
    "\n",
    "print(f'The length of original dataframe: {len(df)}')\n",
    "print(f'The length of filled dataframe: {len(df_filled)}')\n",
    "print(f'The length of dropped duplicates dataframe: {len(df_unique)}')\n",
    "print(f'Rows are dropped: {len(df_filled)-len(df_unique)}')"
   ]
  },
  {
   "cell_type": "markdown",
   "id": "3c514480",
   "metadata": {},
   "source": [
    "| Method              | In-place by Default? | Supports `inplace=True`? | Returns New Object? |\n",
    "| ------------------- | -------------------- | ------------------------ | ------------------- |\n",
    "| `fillna()`          | ❌ No                 | ✅ Yes                    | ✅ Yes               |\n",
    "| `dropna()`          | ❌ No                 | ✅ Yes                    | ✅ Yes               |\n",
    "| `drop_duplicates()` | ❌ No                 | ✅ Yes                    | ✅ Yes               |\n"
   ]
  },
  {
   "cell_type": "markdown",
   "id": "cb5d946e",
   "metadata": {},
   "source": [
    "## drop_duplicates() on specific columns by using the subset parameter."
   ]
  },
  {
   "cell_type": "markdown",
   "id": "e3892673",
   "metadata": {},
   "source": [
    "Syntax:  \n",
    "'df.drop_duplicates(subset=['column1', 'column2'], keep='first', inplace=False)'\n",
    "\n",
    "- keep='first': keeps the first occurrence (default)\n",
    "- keep='last': keeps the last occurrence\n",
    "- keep=False: drops all duplicates  \n",
    "**keep='first' is the default for drop_duplicates()**"
   ]
  },
  {
   "cell_type": "code",
   "execution_count": 28,
   "id": "a6eed339",
   "metadata": {},
   "outputs": [
    {
     "data": {
      "text/html": [
       "<div>\n",
       "<style scoped>\n",
       "    .dataframe tbody tr th:only-of-type {\n",
       "        vertical-align: middle;\n",
       "    }\n",
       "\n",
       "    .dataframe tbody tr th {\n",
       "        vertical-align: top;\n",
       "    }\n",
       "\n",
       "    .dataframe thead th {\n",
       "        text-align: right;\n",
       "    }\n",
       "</style>\n",
       "<table border=\"1\" class=\"dataframe\">\n",
       "  <thead>\n",
       "    <tr style=\"text-align: right;\">\n",
       "      <th></th>\n",
       "      <th>job_title_short</th>\n",
       "      <th>company_name</th>\n",
       "    </tr>\n",
       "  </thead>\n",
       "  <tbody>\n",
       "    <tr>\n",
       "      <th>135554</th>\n",
       "      <td>Business Analyst</td>\n",
       "      <td>ALTER SOLUTIONS</td>\n",
       "    </tr>\n",
       "    <tr>\n",
       "      <th>111096</th>\n",
       "      <td>Business Analyst</td>\n",
       "      <td>Stanley Black &amp; Decker</td>\n",
       "    </tr>\n",
       "    <tr>\n",
       "      <th>111099</th>\n",
       "      <td>Business Analyst</td>\n",
       "      <td>Colgate</td>\n",
       "    </tr>\n",
       "    <tr>\n",
       "      <th>111116</th>\n",
       "      <td>Business Analyst</td>\n",
       "      <td>ENTERPRISE ADVANCED SYSTEM INTELLIGENCE PTE. LTD.</td>\n",
       "    </tr>\n",
       "    <tr>\n",
       "      <th>111118</th>\n",
       "      <td>Business Analyst</td>\n",
       "      <td>Propertyguru Pte. Ltd.</td>\n",
       "    </tr>\n",
       "    <tr>\n",
       "      <th>...</th>\n",
       "      <td>...</td>\n",
       "      <td>...</td>\n",
       "    </tr>\n",
       "    <tr>\n",
       "      <th>686721</th>\n",
       "      <td>Software Engineer</td>\n",
       "      <td>Sybrin</td>\n",
       "    </tr>\n",
       "    <tr>\n",
       "      <th>178536</th>\n",
       "      <td>Software Engineer</td>\n",
       "      <td>BELCOTECH TUNISIE</td>\n",
       "    </tr>\n",
       "    <tr>\n",
       "      <th>178579</th>\n",
       "      <td>Software Engineer</td>\n",
       "      <td>Ali Babu Sdn Bhd</td>\n",
       "    </tr>\n",
       "    <tr>\n",
       "      <th>178613</th>\n",
       "      <td>Software Engineer</td>\n",
       "      <td>Elegant Enterprise- Wide Solutions Inc</td>\n",
       "    </tr>\n",
       "    <tr>\n",
       "      <th>785740</th>\n",
       "      <td>Software Engineer</td>\n",
       "      <td>Trigyn</td>\n",
       "    </tr>\n",
       "  </tbody>\n",
       "</table>\n",
       "<p>241850 rows × 2 columns</p>\n",
       "</div>"
      ],
      "text/plain": [
       "          job_title_short                                       company_name\n",
       "135554   Business Analyst                                    ALTER SOLUTIONS\n",
       "111096   Business Analyst                             Stanley Black & Decker\n",
       "111099   Business Analyst                                            Colgate\n",
       "111116   Business Analyst  ENTERPRISE ADVANCED SYSTEM INTELLIGENCE PTE. LTD.\n",
       "111118   Business Analyst                             Propertyguru Pte. Ltd.\n",
       "...                   ...                                                ...\n",
       "686721  Software Engineer                                             Sybrin\n",
       "178536  Software Engineer                                  BELCOTECH TUNISIE\n",
       "178579  Software Engineer                                   Ali Babu Sdn Bhd\n",
       "178613  Software Engineer             Elegant Enterprise- Wide Solutions Inc\n",
       "785740  Software Engineer                                             Trigyn\n",
       "\n",
       "[241850 rows x 2 columns]"
      ]
     },
     "execution_count": 28,
     "metadata": {},
     "output_type": "execute_result"
    }
   ],
   "source": [
    "df_unique_job_title=df_filled\n",
    "df_unique_job_title=df_unique_job_title.drop_duplicates(subset=['job_title_short','company_name'])\n",
    "df_unique_job_title[['job_title_short','company_name']].sort_values(by='job_title_short')"
   ]
  },
  {
   "cell_type": "code",
   "execution_count": 29,
   "id": "a301125f",
   "metadata": {},
   "outputs": [
    {
     "name": "stdout",
     "output_type": "stream",
     "text": [
      "The length of original dataframe: 785741\n",
      "The length of filled dataframe: 785741\n",
      "The length of dropped duplicates dataframe: 241850\n",
      "Rows are dropped: 543891\n"
     ]
    }
   ],
   "source": [
    "print(f'The length of original dataframe: {len(df)}')\n",
    "print(f'The length of filled dataframe: {len(df_filled)}')\n",
    "print(f'The length of dropped duplicates dataframe: {len(df_unique_job_title)}')\n",
    "print(f'Rows are dropped: {len(df_filled)-len(df_unique_job_title)}')"
   ]
  },
  {
   "cell_type": "code",
   "execution_count": 25,
   "id": "d2eaaf32",
   "metadata": {},
   "outputs": [
    {
     "data": {
      "text/plain": [
       "array(['Senior Data Engineer', 'Data Analyst', 'Data Engineer',\n",
       "       'Business Analyst', 'Data Scientist', 'Machine Learning Engineer',\n",
       "       'Senior Data Analyst', 'Cloud Engineer', 'Senior Data Scientist',\n",
       "       'Software Engineer'], dtype=object)"
      ]
     },
     "execution_count": 25,
     "metadata": {},
     "output_type": "execute_result"
    }
   ],
   "source": [
    "df['job_title_short'].unique()"
   ]
  },
  {
   "cell_type": "markdown",
   "id": "3f8a0f1f",
   "metadata": {},
   "source": [
    "| Method              | Replaces original? (in-place) | Default `inplace` | Returns new object? | Example Syntax                       |\n",
    "| ------------------- | ----------------------------- | ----------------- | ------------------- | ------------------------------------ |\n",
    "| `drop()`            | No                            | ❌ `inplace=False` | ✅ Yes               | `df.drop(['col1'], axis=1)`          |\n",
    "| `drop_duplicates()` | No                            | ❌ `inplace=False` | ✅ Yes               | `df.drop_duplicates(subset=['col'])` |\n",
    "| `dropna()`          | No                            | ❌ `inplace=False` | ✅ Yes               | `df.dropna(subset=['col'])`          |\n",
    "| `fillna()`          | No                            | ❌ `inplace=False` | ✅ Yes               | `df.fillna(0)`                       |\n",
    "| `sort_values()`     | No                            | ❌ `inplace=False` | ✅ Yes               | `df.sort_values(by='col')`           |\n",
    "| `replace()`         | No                            | ❌ `inplace=False` | ✅ Yes               | `df.replace({'old': 'new'})`         |\n",
    "| `rename()`          | No                            | ❌ `inplace=False` | ✅ Yes               | `df.rename(columns={'old': 'new'})`  |\n",
    "\n"
   ]
  },
  {
   "cell_type": "markdown",
   "id": "44479483",
   "metadata": {},
   "source": [
    "✅ Fill NaNs in a specific column"
   ]
  },
  {
   "cell_type": "markdown",
   "id": "e69d7e3c",
   "metadata": {},
   "source": [
    "1. df_filled= df.fillna({'column_name': value})\n",
    "2. df['column_name'] = df['column_name'].fillna(value)"
   ]
  },
  {
   "cell_type": "code",
   "execution_count": null,
   "id": "9720296e",
   "metadata": {},
   "outputs": [],
   "source": [
    "# Drop rows with index 3 and 4\n",
    "df.drop([3, 4], axis=0)\n",
    "\n",
    "# Drop columns named 'col1' and 'col2'\n",
    "df.drop(['col1', 'col2'], axis=1)\n"
   ]
  },
  {
   "cell_type": "markdown",
   "id": "7c1ab707",
   "metadata": {},
   "source": [
    "Summary:\n",
    "- If you want to drop rows, either omit axis or set axis=0  \n",
    "- If you want to drop columns, you must specify axis=1"
   ]
  },
  {
   "cell_type": "markdown",
   "id": "c786e59b",
   "metadata": {},
   "source": [
    "\n",
    "## Dropping a single cell \n",
    "- setting it to NaN or some placeholder  \n",
    "import numpy as np\n",
    "<df.loc[row_index, 'column_name'] = np.nan>\n",
    "\n",
    "- To remove data entirely, drop the row or column containing it"
   ]
  },
  {
   "cell_type": "markdown",
   "id": "7283cdd0",
   "metadata": {},
   "source": [
    "| Feature        | `df.count()`                 | `df['col'].value_counts()`   |\n",
    "| -------------- | ---------------------------- | ---------------------------- |\n",
    "| Works on       | Whole DataFrame              | Single column (Series) only  |\n",
    "| Returns        | Count of non-null values     | Frequency of unique values   |\n",
    "| Includes NaNs? | ❌ No (ignores NaNs)          | ❌ No (skips NaNs by default) |\n",
    "| Axis support   | ✅ Yes (`axis=0` or `axis=1`) | ❌ No axis support            |\n",
    "| Output         | Series (column-wise count)   | Series (value: count)        |\n"
   ]
  },
  {
   "cell_type": "markdown",
   "id": "6fa958d6",
   "metadata": {},
   "source": [
    "## Practice"
   ]
  },
  {
   "cell_type": "markdown",
   "id": "65c50de0",
   "metadata": {},
   "source": [
    "Remove rows where the salary_year_avg column has missing values. Display the number of rows before and after removing."
   ]
  },
  {
   "cell_type": "code",
   "execution_count": 32,
   "id": "686f6575",
   "metadata": {},
   "outputs": [
    {
     "name": "stdout",
     "output_type": "stream",
     "text": [
      "Rows before removing missing values: 785741\n",
      "Rows after removing missing values: 22003\n"
     ]
    }
   ],
   "source": [
    "import pandas as pd\n",
    "df=pd.read_csv('/Users/abby/Python_data_project/2_Advanced/data_jobs.csv')\n",
    "df['job_posted_date']=pd.to_datetime(df['job_posted_date'])\n",
    "\n",
    "df_removed=df.dropna(subset='salary_year_avg')\n",
    "print(f'Rows before removing missing values: {len(df)}')\n",
    "print(f'Rows after removing missing values: {len(df_removed)}')"
   ]
  },
  {
   "cell_type": "markdown",
   "id": "0ebf994b",
   "metadata": {},
   "source": [
    "Remove duplicate rows from the DataFrame based on the job_location column. Display the number of rows before and after removing duplicates.\n",
    "\n"
   ]
  },
  {
   "cell_type": "code",
   "execution_count": 33,
   "id": "59fb1db7",
   "metadata": {},
   "outputs": [
    {
     "name": "stdout",
     "output_type": "stream",
     "text": [
      "Rows before removing duplicate job locations: 785741\n",
      "Rows after removing duplicate job locations: 17218\n"
     ]
    }
   ],
   "source": [
    "import pandas as pd\n",
    "df=pd.read_csv('/Users/abby/Python_data_project/2_Advanced/data_jobs.csv')\n",
    "df['job_posted_date']=pd.to_datetime(df['job_posted_date'])\n",
    "\n",
    "df_unique_job_locations=df.drop_duplicates(subset='job_location')\n",
    "print(f'Rows before removing duplicate job locations: {len(df)}')\n",
    "print(f'Rows after removing duplicate job locations: {len(df_unique_job_locations)}')"
   ]
  },
  {
   "cell_type": "markdown",
   "id": "dfd34d15",
   "metadata": {},
   "source": [
    "Fill missing values in the salary_rate column with the string 'Unknown'. Display the first 10 rows of the salary_rate column before and after filling."
   ]
  },
  {
   "cell_type": "code",
   "execution_count": null,
   "id": "043929d4",
   "metadata": {},
   "outputs": [
    {
     "name": "stdout",
     "output_type": "stream",
     "text": [
      "0    Unknow\n",
      "1    Unknow\n",
      "2    Unknow\n",
      "3    Unknow\n",
      "4    Unknow\n",
      "5    Unknow\n",
      "6    Unknow\n",
      "7    Unknow\n",
      "8    Unknow\n",
      "9    Unknow\n",
      "Name: salary_rate, dtype: object\n",
      "0    Unknow\n",
      "1    Unknow\n",
      "2    Unknow\n",
      "3    Unknow\n",
      "4    Unknow\n",
      "5    Unknow\n",
      "6    Unknow\n",
      "7    Unknow\n",
      "8    Unknow\n",
      "9    Unknow\n",
      "Name: salary_rate, dtype: object\n"
     ]
    }
   ],
   "source": [
    "import pandas as pd\n",
    "df=pd.read_csv('/Users/abby/Python_data_project/2_Advanced/data_jobs.csv')\n",
    "df['job_posted_date']=pd.to_datetime(df['job_posted_date'])\n",
    "\n",
    "df_filledrate=df\n",
    "df_filledrate['salary_rate'] = df_filledrate['salary_rate'].fillna('Unknow')\n",
    "print(df['salary_rate'].head(10))\n",
    "print(df_filledrate['salary_rate'].head(10))"
   ]
  },
  {
   "cell_type": "code",
   "execution_count": null,
   "id": "d0edf9df",
   "metadata": {},
   "outputs": [
    {
     "name": "stdout",
     "output_type": "stream",
     "text": [
      "0    NaN\n",
      "1    NaN\n",
      "2    NaN\n",
      "3    NaN\n",
      "4    NaN\n",
      "5    NaN\n",
      "6    NaN\n",
      "7    NaN\n",
      "8    NaN\n",
      "9    NaN\n",
      "Name: salary_rate, dtype: object\n",
      "0    Unknow\n",
      "1    Unknow\n",
      "2    Unknow\n",
      "3    Unknow\n",
      "4    Unknow\n",
      "5    Unknow\n",
      "6    Unknow\n",
      "7    Unknow\n",
      "8    Unknow\n",
      "9    Unknow\n",
      "Name: salary_rate, dtype: object\n"
     ]
    }
   ],
   "source": [
    "import pandas as pd\n",
    "df=pd.read_csv('/Users/abby/Python_data_project/2_Advanced/data_jobs.csv')\n",
    "df['job_posted_date']=pd.to_datetime(df['job_posted_date'])\n",
    "\n",
    "df_filledrate=df.copy()\n",
    "df_filledrate['salary_rate'] = df_filledrate['salary_rate'].fillna('Unknow')\n",
    "print(df['salary_rate'].head(10))\n",
    "print(df_filledrate['salary_rate'].head(10))\n",
    "\n",
    "\"\"\"\n",
    "salary_rate_before = df['salary_rate'].head(10)\n",
    "df_filled = df.fillna({'salary_rate': 'Unknown'})\n",
    "salary_rate_after = df_filled['salary_rate'].head(10)\n",
    "salary_rate_before, salary_rate_after\n",
    "\"\"\""
   ]
  },
  {
   "cell_type": "code",
   "execution_count": null,
   "id": "6315c4bc",
   "metadata": {},
   "outputs": [],
   "source": [
    "df_filledrate=df\n",
    "\n",
    "# This line does not create a new copy of the DataFrame — \n",
    "# it simply creates a second reference (alias) to the same object in memory."
   ]
  },
  {
   "cell_type": "markdown",
   "id": "d8537aef",
   "metadata": {},
   "source": [
    "| Code              | Behavior                             |\n",
    "| ----------------- | ------------------------------------ |\n",
    "| `df2 = df`        | 🔗 Both refer to the **same** object |\n",
    "| `df2 = df.copy()` | 🆕 Creates a **separate** copy       |\n"
   ]
  },
  {
   "cell_type": "code",
   "execution_count": 5,
   "id": "52a0c2c2",
   "metadata": {},
   "outputs": [
    {
     "name": "stdout",
     "output_type": "stream",
     "text": [
      "0    Not Available\n",
      "1    Not Available\n",
      "2    Not Available\n",
      "Name: salary_rate, dtype: object\n",
      "0    Not Available\n",
      "1    Not Available\n",
      "2    Not Available\n",
      "Name: salary_rate, dtype: object\n",
      "0    NaN\n",
      "1    NaN\n",
      "2    NaN\n",
      "Name: salary_rate, dtype: object\n"
     ]
    }
   ],
   "source": [
    "import pandas as pd\n",
    "df=pd.read_csv('/Users/abby/Python_data_project/2_Advanced/data_jobs.csv')\n",
    "df['job_posted_date']=pd.to_datetime(df['job_posted_date'])\n",
    "\n",
    "df_new=df\n",
    "df_cp=df.copy()\n",
    "df_new['salary_rate']=df_new['salary_rate'].fillna('Not Available')\n",
    "print(df['salary_rate'].head(3))\n",
    "print(df_new['salary_rate'].head(3))\n",
    "print(df_cp['salary_rate'].head(3))"
   ]
  },
  {
   "cell_type": "code",
   "execution_count": 6,
   "id": "39f50b62",
   "metadata": {},
   "outputs": [
    {
     "data": {
      "text/plain": [
       "True"
      ]
     },
     "execution_count": 6,
     "metadata": {},
     "output_type": "execute_result"
    }
   ],
   "source": [
    "df_new is df"
   ]
  },
  {
   "cell_type": "code",
   "execution_count": null,
   "id": "d6ddcd30",
   "metadata": {},
   "outputs": [
    {
     "data": {
      "text/plain": [
       "False"
      ]
     },
     "execution_count": 7,
     "metadata": {},
     "output_type": "execute_result"
    }
   ],
   "source": [
    "df_cp is df # only copy() can create a new independent dataframe"
   ]
  }
 ],
 "metadata": {
  "kernelspec": {
   "display_name": "python_course",
   "language": "python",
   "name": "python3"
  },
  "language_info": {
   "codemirror_mode": {
    "name": "ipython",
    "version": 3
   },
   "file_extension": ".py",
   "mimetype": "text/x-python",
   "name": "python",
   "nbconvert_exporter": "python",
   "pygments_lexer": "ipython3",
   "version": "3.11.9"
  }
 },
 "nbformat": 4,
 "nbformat_minor": 5
}
