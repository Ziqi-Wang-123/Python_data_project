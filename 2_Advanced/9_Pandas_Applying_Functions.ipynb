{
 "cells": [
  {
   "cell_type": "markdown",
   "id": "e1c57dbc",
   "metadata": {},
   "source": [
    "## apply(): \n",
    "\n",
    "#### The apply() function in pandas lets you apply a function to each row or column of a DataFrame — kind of like a for-loop shortcut for rows or columns.\n",
    "\n",
    "### Note: Apply functions to columns or rows."
   ]
  },
  {
   "cell_type": "markdown",
   "id": "0d47a399",
   "metadata": {},
   "source": [
    "| Parameter         | Description                                                                                                                                                                                             |\n",
    "| ----------------- | ------------------------------------------------------------------------------------------------------------------------------------------------------------------------------------------------------- |\n",
    "| **`func`**        | The function to apply to each row or column. Can be a built-in function, lambda, or custom function.                                                                                                    |\n",
    "| **`axis`**        | Direction to apply the function: <br> `0` or `'index'` → apply to each **column** (default) <br> `1` or `'columns'` → apply to each **row**                                                             |\n",
    "| **`raw`**         | If `True`, passes raw numpy arrays to the function instead of Series. This can improve performance.                                                                                                     |\n",
    "| **`result_type`** | Only used when `axis=1`. Can be: <br> `'expand'`: list-like results become columns <br> `'reduce'`: results are reduced to a Series <br> `'broadcast'`: results are broadcast across the original shape |\n",
    "| **`args`**        | A tuple of positional arguments to pass to `func`.                                                                                                                                                      |\n",
    "| **`**kwds`**      | Additional keyword arguments passed to `func`.                                                                                                                                                          |\n"
   ]
  },
  {
   "cell_type": "markdown",
   "id": "79b0ccb3",
   "metadata": {},
   "source": [
    "##### df.apply(func, axis=0)  # apply to each column (default)\n",
    "##### df.apply(func, axis=1)  # apply to each row"
   ]
  },
  {
   "cell_type": "markdown",
   "id": "870f9fb8",
   "metadata": {},
   "source": [
    "### Example: 🔁 axis=0 → Apply function to each column\n",
    "\n",
    "Think: \"Down each column\"\n",
    "\n",
    "Each column (as a Series) is passed one-by-one to the function."
   ]
  },
  {
   "cell_type": "code",
   "execution_count": 37,
   "id": "6ab349a5",
   "metadata": {},
   "outputs": [
    {
     "data": {
      "text/html": [
       "<div>\n",
       "<style scoped>\n",
       "    .dataframe tbody tr th:only-of-type {\n",
       "        vertical-align: middle;\n",
       "    }\n",
       "\n",
       "    .dataframe tbody tr th {\n",
       "        vertical-align: top;\n",
       "    }\n",
       "\n",
       "    .dataframe thead th {\n",
       "        text-align: right;\n",
       "    }\n",
       "</style>\n",
       "<table border=\"1\" class=\"dataframe\">\n",
       "  <thead>\n",
       "    <tr style=\"text-align: right;\">\n",
       "      <th></th>\n",
       "      <th>A</th>\n",
       "      <th>B</th>\n",
       "    </tr>\n",
       "  </thead>\n",
       "  <tbody>\n",
       "    <tr>\n",
       "      <th>0</th>\n",
       "      <td>1</td>\n",
       "      <td>10</td>\n",
       "    </tr>\n",
       "    <tr>\n",
       "      <th>1</th>\n",
       "      <td>2</td>\n",
       "      <td>20</td>\n",
       "    </tr>\n",
       "  </tbody>\n",
       "</table>\n",
       "</div>"
      ],
      "text/plain": [
       "   A   B\n",
       "0  1  10\n",
       "1  2  20"
      ]
     },
     "execution_count": 37,
     "metadata": {},
     "output_type": "execute_result"
    }
   ],
   "source": [
    "import pandas as pd\n",
    "\n",
    "df = pd.DataFrame({\n",
    "    'A': [1, 2],\n",
    "    'B': [10, 20]\n",
    "})\n",
    "df\n"
   ]
  },
  {
   "cell_type": "code",
   "execution_count": 38,
   "id": "1dd41d2e",
   "metadata": {},
   "outputs": [
    {
     "data": {
      "text/plain": [
       "A     3\n",
       "B    30\n",
       "dtype: int64"
      ]
     },
     "execution_count": 38,
     "metadata": {},
     "output_type": "execute_result"
    }
   ],
   "source": [
    "df.apply(sum, axis=0)"
   ]
  },
  {
   "cell_type": "markdown",
   "id": "955feed6",
   "metadata": {},
   "source": [
    "### Example ↔️ axis=1 → Apply function to each row\n",
    "\n",
    "Think: \"Across each row\"\n",
    "\n",
    "Each row (as a Series) is passed to the function."
   ]
  },
  {
   "cell_type": "code",
   "execution_count": 39,
   "id": "91b67c75",
   "metadata": {},
   "outputs": [
    {
     "data": {
      "text/plain": [
       "0    11\n",
       "1    22\n",
       "dtype: int64"
      ]
     },
     "execution_count": 39,
     "metadata": {},
     "output_type": "execute_result"
    }
   ],
   "source": [
    "df.apply(lambda row: row['A'] + row['B'], axis=1)\n"
   ]
  },
  {
   "cell_type": "markdown",
   "id": "2317863f",
   "metadata": {},
   "source": [
    "| Method              | Applies to          | Use for                                               |\n",
    "| ------------------- | ------------------- | ----------------------------------------------------- |\n",
    "| `df['col'].apply()` | A single **Series** | Element-wise transformation (e.g. clean, map, format) |\n",
    "| `df.apply(axis=0)`  | Each **column**     | Column-wise ops (e.g. col stats)                      |\n",
    "| `df.apply(axis=1)`  | Each **row**        | Row-level logic (e.g. combine fields, custom rules)   |\n"
   ]
  },
  {
   "cell_type": "code",
   "execution_count": 1,
   "id": "8e7b98d7",
   "metadata": {},
   "outputs": [],
   "source": [
    "# Import libraries and data, then clean up data\n",
    "import pandas as pd\n",
    "df=pd.read_csv('/Users/abby/Python_data_project/2_Advanced/data_jobs.csv')\n",
    "df['job_posted_date']=pd.to_datetime(df['job_posted_date'])\n"
   ]
  },
  {
   "cell_type": "code",
   "execution_count": 4,
   "id": "33f133fe",
   "metadata": {},
   "outputs": [
    {
     "data": {
      "text/plain": [
       "28        109500.0\n",
       "77        140000.0\n",
       "92        120000.0\n",
       "100       228222.0\n",
       "109        89000.0\n",
       "            ...   \n",
       "785624    139216.0\n",
       "785641    150000.0\n",
       "785648    221875.0\n",
       "785682    157500.0\n",
       "785692    157500.0\n",
       "Name: salary_year_avg, Length: 22003, dtype: float64"
      ]
     },
     "execution_count": 4,
     "metadata": {},
     "output_type": "execute_result"
    }
   ],
   "source": [
    "pd.notna(df['salary_year_avg']) # return boolean value, Ture or False\n",
    "df[pd.notna(df['salary_year_avg'])] # then get the filtered dataframe which salary_year_avg is not na\n",
    "df[pd.notna(df['salary_year_avg'])]['salary_year_avg']"
   ]
  },
  {
   "cell_type": "markdown",
   "id": "82ebfe33",
   "metadata": {},
   "source": [
    "### Calculate projected salary\n",
    "\n",
    "Simple introduction to apply() function, which is easier to understand"
   ]
  },
  {
   "cell_type": "code",
   "execution_count": null,
   "id": "1b919f90",
   "metadata": {},
   "outputs": [
    {
     "data": {
      "text/html": [
       "<div>\n",
       "<style scoped>\n",
       "    .dataframe tbody tr th:only-of-type {\n",
       "        vertical-align: middle;\n",
       "    }\n",
       "\n",
       "    .dataframe tbody tr th {\n",
       "        vertical-align: top;\n",
       "    }\n",
       "\n",
       "    .dataframe thead th {\n",
       "        text-align: right;\n",
       "    }\n",
       "</style>\n",
       "<table border=\"1\" class=\"dataframe\">\n",
       "  <thead>\n",
       "    <tr style=\"text-align: right;\">\n",
       "      <th></th>\n",
       "      <th>salary_year_inflated</th>\n",
       "      <th>salary_year_avg</th>\n",
       "    </tr>\n",
       "  </thead>\n",
       "  <tbody>\n",
       "    <tr>\n",
       "      <th>28</th>\n",
       "      <td>112785.00</td>\n",
       "      <td>109500.0</td>\n",
       "    </tr>\n",
       "    <tr>\n",
       "      <th>77</th>\n",
       "      <td>144200.00</td>\n",
       "      <td>140000.0</td>\n",
       "    </tr>\n",
       "    <tr>\n",
       "      <th>92</th>\n",
       "      <td>123600.00</td>\n",
       "      <td>120000.0</td>\n",
       "    </tr>\n",
       "    <tr>\n",
       "      <th>100</th>\n",
       "      <td>235068.66</td>\n",
       "      <td>228222.0</td>\n",
       "    </tr>\n",
       "    <tr>\n",
       "      <th>109</th>\n",
       "      <td>91670.00</td>\n",
       "      <td>89000.0</td>\n",
       "    </tr>\n",
       "    <tr>\n",
       "      <th>116</th>\n",
       "      <td>117420.00</td>\n",
       "      <td>114000.0</td>\n",
       "    </tr>\n",
       "    <tr>\n",
       "      <th>146</th>\n",
       "      <td>133385.00</td>\n",
       "      <td>129500.0</td>\n",
       "    </tr>\n",
       "    <tr>\n",
       "      <th>180</th>\n",
       "      <td>92957.50</td>\n",
       "      <td>90250.0</td>\n",
       "    </tr>\n",
       "    <tr>\n",
       "      <th>212</th>\n",
       "      <td>162225.00</td>\n",
       "      <td>157500.0</td>\n",
       "    </tr>\n",
       "    <tr>\n",
       "      <th>257</th>\n",
       "      <td>106221.84</td>\n",
       "      <td>103128.0</td>\n",
       "    </tr>\n",
       "  </tbody>\n",
       "</table>\n",
       "</div>"
      ],
      "text/plain": [
       "     salary_year_inflated  salary_year_avg\n",
       "28              112785.00         109500.0\n",
       "77              144200.00         140000.0\n",
       "92              123600.00         120000.0\n",
       "100             235068.66         228222.0\n",
       "109              91670.00          89000.0\n",
       "116             117420.00         114000.0\n",
       "146             133385.00         129500.0\n",
       "180              92957.50          90250.0\n",
       "212             162225.00         157500.0\n",
       "257             106221.84         103128.0"
      ]
     },
     "execution_count": 11,
     "metadata": {},
     "output_type": "execute_result"
    }
   ],
   "source": [
    "def projected_salary(salary):\n",
    "    return salary * 1.03\n",
    "\n",
    "# when need alteration of the original datafrane, remember to add a copy\n",
    "df_salary = df[pd.notna(df['salary_year_avg'])].copy()\n",
    "\n",
    "df_salary['salary_year_inflated'] = df_salary['salary_year_avg'].apply(projected_salary)\n",
    "\n",
    "df_salary[['salary_year_inflated','salary_year_avg']].head(10)\n",
    "\n"
   ]
  },
  {
   "cell_type": "markdown",
   "id": "95f5823f",
   "metadata": {},
   "source": [
    "use lambda function"
   ]
  },
  {
   "cell_type": "code",
   "execution_count": 30,
   "id": "2006573b",
   "metadata": {},
   "outputs": [
    {
     "data": {
      "text/html": [
       "<div>\n",
       "<style scoped>\n",
       "    .dataframe tbody tr th:only-of-type {\n",
       "        vertical-align: middle;\n",
       "    }\n",
       "\n",
       "    .dataframe tbody tr th {\n",
       "        vertical-align: top;\n",
       "    }\n",
       "\n",
       "    .dataframe thead th {\n",
       "        text-align: right;\n",
       "    }\n",
       "</style>\n",
       "<table border=\"1\" class=\"dataframe\">\n",
       "  <thead>\n",
       "    <tr style=\"text-align: right;\">\n",
       "      <th></th>\n",
       "      <th>salary_year_inflated</th>\n",
       "      <th>salary_year_avg</th>\n",
       "    </tr>\n",
       "  </thead>\n",
       "  <tbody>\n",
       "    <tr>\n",
       "      <th>28</th>\n",
       "      <td>112785.00</td>\n",
       "      <td>109500.0</td>\n",
       "    </tr>\n",
       "    <tr>\n",
       "      <th>77</th>\n",
       "      <td>144200.00</td>\n",
       "      <td>140000.0</td>\n",
       "    </tr>\n",
       "    <tr>\n",
       "      <th>92</th>\n",
       "      <td>123600.00</td>\n",
       "      <td>120000.0</td>\n",
       "    </tr>\n",
       "    <tr>\n",
       "      <th>100</th>\n",
       "      <td>235068.66</td>\n",
       "      <td>228222.0</td>\n",
       "    </tr>\n",
       "    <tr>\n",
       "      <th>109</th>\n",
       "      <td>91670.00</td>\n",
       "      <td>89000.0</td>\n",
       "    </tr>\n",
       "    <tr>\n",
       "      <th>116</th>\n",
       "      <td>117420.00</td>\n",
       "      <td>114000.0</td>\n",
       "    </tr>\n",
       "    <tr>\n",
       "      <th>146</th>\n",
       "      <td>133385.00</td>\n",
       "      <td>129500.0</td>\n",
       "    </tr>\n",
       "    <tr>\n",
       "      <th>180</th>\n",
       "      <td>92957.50</td>\n",
       "      <td>90250.0</td>\n",
       "    </tr>\n",
       "    <tr>\n",
       "      <th>212</th>\n",
       "      <td>162225.00</td>\n",
       "      <td>157500.0</td>\n",
       "    </tr>\n",
       "    <tr>\n",
       "      <th>257</th>\n",
       "      <td>106221.84</td>\n",
       "      <td>103128.0</td>\n",
       "    </tr>\n",
       "  </tbody>\n",
       "</table>\n",
       "</div>"
      ],
      "text/plain": [
       "     salary_year_inflated  salary_year_avg\n",
       "28              112785.00         109500.0\n",
       "77              144200.00         140000.0\n",
       "92              123600.00         120000.0\n",
       "100             235068.66         228222.0\n",
       "109              91670.00          89000.0\n",
       "116             117420.00         114000.0\n",
       "146             133385.00         129500.0\n",
       "180              92957.50          90250.0\n",
       "212             162225.00         157500.0\n",
       "257             106221.84         103128.0"
      ]
     },
     "execution_count": 30,
     "metadata": {},
     "output_type": "execute_result"
    }
   ],
   "source": [
    "# when need alteration of the original datafrane, remember to add a copy\n",
    "df_salary_1 = df[pd.notna(df['salary_year_avg'])].copy()\n",
    "\n",
    "df_salary_1['salary_year_inflated']=df_salary_1['salary_year_avg'].apply(lambda salary: salary* 1.03)\n",
    "df_salary_1[['salary_year_inflated','salary_year_avg']].head(10)"
   ]
  },
  {
   "cell_type": "code",
   "execution_count": 31,
   "id": "3d3cb6e5",
   "metadata": {},
   "outputs": [
    {
     "data": {
      "text/html": [
       "<div>\n",
       "<style scoped>\n",
       "    .dataframe tbody tr th:only-of-type {\n",
       "        vertical-align: middle;\n",
       "    }\n",
       "\n",
       "    .dataframe tbody tr th {\n",
       "        vertical-align: top;\n",
       "    }\n",
       "\n",
       "    .dataframe thead th {\n",
       "        text-align: right;\n",
       "    }\n",
       "</style>\n",
       "<table border=\"1\" class=\"dataframe\">\n",
       "  <thead>\n",
       "    <tr style=\"text-align: right;\">\n",
       "      <th></th>\n",
       "      <th>salary_year_inflated</th>\n",
       "      <th>salary_year_avg</th>\n",
       "    </tr>\n",
       "  </thead>\n",
       "  <tbody>\n",
       "    <tr>\n",
       "      <th>28</th>\n",
       "      <td>112785.00</td>\n",
       "      <td>109500.0</td>\n",
       "    </tr>\n",
       "    <tr>\n",
       "      <th>77</th>\n",
       "      <td>144200.00</td>\n",
       "      <td>140000.0</td>\n",
       "    </tr>\n",
       "    <tr>\n",
       "      <th>92</th>\n",
       "      <td>123600.00</td>\n",
       "      <td>120000.0</td>\n",
       "    </tr>\n",
       "    <tr>\n",
       "      <th>100</th>\n",
       "      <td>235068.66</td>\n",
       "      <td>228222.0</td>\n",
       "    </tr>\n",
       "    <tr>\n",
       "      <th>109</th>\n",
       "      <td>91670.00</td>\n",
       "      <td>89000.0</td>\n",
       "    </tr>\n",
       "    <tr>\n",
       "      <th>116</th>\n",
       "      <td>117420.00</td>\n",
       "      <td>114000.0</td>\n",
       "    </tr>\n",
       "    <tr>\n",
       "      <th>146</th>\n",
       "      <td>133385.00</td>\n",
       "      <td>129500.0</td>\n",
       "    </tr>\n",
       "    <tr>\n",
       "      <th>180</th>\n",
       "      <td>92957.50</td>\n",
       "      <td>90250.0</td>\n",
       "    </tr>\n",
       "    <tr>\n",
       "      <th>212</th>\n",
       "      <td>162225.00</td>\n",
       "      <td>157500.0</td>\n",
       "    </tr>\n",
       "    <tr>\n",
       "      <th>257</th>\n",
       "      <td>106221.84</td>\n",
       "      <td>103128.0</td>\n",
       "    </tr>\n",
       "  </tbody>\n",
       "</table>\n",
       "</div>"
      ],
      "text/plain": [
       "     salary_year_inflated  salary_year_avg\n",
       "28              112785.00         109500.0\n",
       "77              144200.00         140000.0\n",
       "92              123600.00         120000.0\n",
       "100             235068.66         228222.0\n",
       "109              91670.00          89000.0\n",
       "116             117420.00         114000.0\n",
       "146             133385.00         129500.0\n",
       "180              92957.50          90250.0\n",
       "212             162225.00         157500.0\n",
       "257             106221.84         103128.0"
      ]
     },
     "execution_count": 31,
     "metadata": {},
     "output_type": "execute_result"
    }
   ],
   "source": [
    "df_salary_2 = df[pd.notna(df['salary_year_avg'])].copy()\n",
    "\n",
    "df_salary_2['salary_year_inflated']=df_salary_2['salary_year_avg']*1.03\n",
    "\n",
    "df_salary_2[['salary_year_inflated','salary_year_avg']].head(10)"
   ]
  },
  {
   "cell_type": "markdown",
   "id": "94eccead",
   "metadata": {},
   "source": []
  },
  {
   "cell_type": "markdown",
   "id": "85553b5c",
   "metadata": {},
   "source": [
    "## Job Skills Column"
   ]
  },
  {
   "cell_type": "code",
   "execution_count": 14,
   "id": "c950f789",
   "metadata": {},
   "outputs": [],
   "source": [
    "# Import libraries and data, then clean up data\n",
    "import pandas as pd\n",
    "df=pd.read_csv('/Users/abby/Python_data_project/2_Advanced/data_jobs.csv')\n",
    "df['job_posted_date']=pd.to_datetime(df['job_posted_date'])"
   ]
  },
  {
   "cell_type": "code",
   "execution_count": 20,
   "id": "171c20f5",
   "metadata": {},
   "outputs": [
    {
     "data": {
      "text/plain": [
       "str"
      ]
     },
     "execution_count": 20,
     "metadata": {},
     "output_type": "execute_result"
    }
   ],
   "source": [
    "type(df['job_skills'][1])"
   ]
  },
  {
   "cell_type": "code",
   "execution_count": 19,
   "id": "77800a63",
   "metadata": {},
   "outputs": [
    {
     "data": {
      "text/plain": [
       "\"['r', 'python', 'sql', 'nosql', 'power bi', 'tableau']\""
      ]
     },
     "execution_count": 19,
     "metadata": {},
     "output_type": "execute_result"
    }
   ],
   "source": [
    "df['job_skills'][1]"
   ]
  },
  {
   "cell_type": "markdown",
   "id": "699fd9e5",
   "metadata": {},
   "source": [
    "## ast.literal_eval()\n",
    "##### ast.literal_eval() is a built-in Python function from the **ast module** that safely evaluates a string containing a Python literal — like a list, dict, tuple, int, float, or boolean.\n",
    "#### 👉 It evaluates a string containing a Python literal — which means it parses and converts the string into a real Python object."
   ]
  },
  {
   "cell_type": "code",
   "execution_count": 26,
   "id": "f6f3f073",
   "metadata": {},
   "outputs": [
    {
     "data": {
      "text/plain": [
       "['r', 'python', 'sql', 'nosql', 'power bi', 'tableau']"
      ]
     },
     "execution_count": 26,
     "metadata": {},
     "output_type": "execute_result"
    }
   ],
   "source": [
    "import ast\n",
    "\n",
    "s= ast.literal_eval(df['job_skills'][1])\n",
    "s"
   ]
  },
  {
   "cell_type": "code",
   "execution_count": 25,
   "id": "b1db0ab1",
   "metadata": {},
   "outputs": [
    {
     "data": {
      "text/plain": [
       "list"
      ]
     },
     "execution_count": 25,
     "metadata": {},
     "output_type": "execute_result"
    }
   ],
   "source": [
    "type(s)"
   ]
  },
  {
   "cell_type": "markdown",
   "id": "370863f9",
   "metadata": {},
   "source": [
    "If use this function to the whole columns, what happened?"
   ]
  },
  {
   "cell_type": "code",
   "execution_count": null,
   "id": "413f701c",
   "metadata": {},
   "outputs": [],
   "source": [
    "df['job_skills']=ast.literal_eval(df['job_skills'])\n",
    "# this will run error"
   ]
  },
  {
   "cell_type": "markdown",
   "id": "66e6c02d",
   "metadata": {},
   "source": [
    "#### Need to use apply to use this function"
   ]
  },
  {
   "cell_type": "code",
   "execution_count": 29,
   "id": "1436b458",
   "metadata": {},
   "outputs": [
    {
     "data": {
      "text/plain": [
       "0                                                      None\n",
       "1                [r, python, sql, nosql, power bi, tableau]\n",
       "2         [python, sql, c#, azure, airflow, dax, docker,...\n",
       "3         [python, c++, java, matlab, aws, tensorflow, k...\n",
       "4         [bash, python, oracle, aws, ansible, puppet, j...\n",
       "                                ...                        \n",
       "785736    [bash, python, perl, linux, unix, kubernetes, ...\n",
       "785737                               [sas, sas, sql, excel]\n",
       "785738                                  [powerpoint, excel]\n",
       "785739    [python, go, nosql, sql, mongo, shell, mysql, ...\n",
       "785740                                          [aws, flow]\n",
       "Name: job_skills, Length: 785741, dtype: object"
      ]
     },
     "execution_count": 29,
     "metadata": {},
     "output_type": "execute_result"
    }
   ],
   "source": [
    "'''\n",
    "def clean_list(job_skill):\n",
    "    return ast.literal_eval(job_skill)\n",
    "\n",
    "df['job_skills']=df['job_skills'].apply(clean_list)\n",
    "df['job_skills']\n",
    "# ValueError: malformed node or string: nan\n",
    "'''\n",
    "# Import libraries and data, then clean up data\n",
    "import pandas as pd\n",
    "import ast\n",
    "df=pd.read_csv('/Users/abby/Python_data_project/2_Advanced/data_jobs.csv')\n",
    "df['job_posted_date']=pd.to_datetime(df['job_posted_date'])\n",
    "\n",
    "def clean_list(job_skill):\n",
    "    if pd.notna(job_skill):\n",
    "        return ast.literal_eval(job_skill)\n",
    "\n",
    "df['job_skills']=df['job_skills'].apply(clean_list)\n",
    "df['job_skills']\n"
   ]
  },
  {
   "cell_type": "markdown",
   "id": "866e301b",
   "metadata": {},
   "source": [
    "#### Another way: use lambda instead of define a function"
   ]
  },
  {
   "cell_type": "code",
   "execution_count": 34,
   "id": "43b156be",
   "metadata": {},
   "outputs": [
    {
     "data": {
      "text/plain": [
       "0                                                  NaN\n",
       "1           [r, python, sql, nosql, power bi, tableau]\n",
       "2    [python, sql, c#, azure, airflow, dax, docker,...\n",
       "3    [python, c++, java, matlab, aws, tensorflow, k...\n",
       "4    [bash, python, oracle, aws, ansible, puppet, j...\n",
       "Name: job_skills, dtype: object"
      ]
     },
     "execution_count": 34,
     "metadata": {},
     "output_type": "execute_result"
    }
   ],
   "source": [
    "import pandas as pd\n",
    "import ast\n",
    "df=pd.read_csv('/Users/abby/Python_data_project/2_Advanced/data_jobs.csv')\n",
    "df['job_posted_date']=pd.to_datetime(df['job_posted_date'])\n",
    "\n",
    "df['job_skills']=df['job_skills'].apply(lambda job_skill: ast.literal_eval(job_skill) if pd.notna(job_skill) else job_skill)\n",
    "df['job_skills'].head()"
   ]
  },
  {
   "cell_type": "code",
   "execution_count": 35,
   "id": "efc2c594",
   "metadata": {},
   "outputs": [
    {
     "data": {
      "text/plain": [
       "list"
      ]
     },
     "execution_count": 35,
     "metadata": {},
     "output_type": "execute_result"
    }
   ],
   "source": [
    "type(df['job_skills'][1])"
   ]
  },
  {
   "cell_type": "markdown",
   "id": "17bc8af5",
   "metadata": {},
   "source": [
    "### Calculate project salary next year\n",
    "\n",
    "- senior roles assume 5%\n",
    "- other roles assume 3%"
   ]
  },
  {
   "cell_type": "code",
   "execution_count": 42,
   "id": "004b29fa",
   "metadata": {},
   "outputs": [],
   "source": [
    "import pandas as pd\n",
    "df=pd.read_csv('/Users/abby/Python_data_project/2_Advanced/data_jobs.csv')\n",
    "df['job_posted_date']=pd.to_datetime(df['job_posted_date'])\n"
   ]
  },
  {
   "cell_type": "code",
   "execution_count": 45,
   "id": "be879a70",
   "metadata": {},
   "outputs": [
    {
     "data": {
      "text/html": [
       "<div>\n",
       "<style scoped>\n",
       "    .dataframe tbody tr th:only-of-type {\n",
       "        vertical-align: middle;\n",
       "    }\n",
       "\n",
       "    .dataframe tbody tr th {\n",
       "        vertical-align: top;\n",
       "    }\n",
       "\n",
       "    .dataframe thead th {\n",
       "        text-align: right;\n",
       "    }\n",
       "</style>\n",
       "<table border=\"1\" class=\"dataframe\">\n",
       "  <thead>\n",
       "    <tr style=\"text-align: right;\">\n",
       "      <th></th>\n",
       "      <th>job_title_short</th>\n",
       "      <th>salary_year_avg</th>\n",
       "      <th>salary_year_inflated</th>\n",
       "    </tr>\n",
       "  </thead>\n",
       "  <tbody>\n",
       "    <tr>\n",
       "      <th>28</th>\n",
       "      <td>Data Scientist</td>\n",
       "      <td>109500.0</td>\n",
       "      <td>112785.00</td>\n",
       "    </tr>\n",
       "    <tr>\n",
       "      <th>77</th>\n",
       "      <td>Data Engineer</td>\n",
       "      <td>140000.0</td>\n",
       "      <td>144200.00</td>\n",
       "    </tr>\n",
       "    <tr>\n",
       "      <th>92</th>\n",
       "      <td>Data Engineer</td>\n",
       "      <td>120000.0</td>\n",
       "      <td>123600.00</td>\n",
       "    </tr>\n",
       "    <tr>\n",
       "      <th>100</th>\n",
       "      <td>Data Scientist</td>\n",
       "      <td>228222.0</td>\n",
       "      <td>235068.66</td>\n",
       "    </tr>\n",
       "    <tr>\n",
       "      <th>109</th>\n",
       "      <td>Data Analyst</td>\n",
       "      <td>89000.0</td>\n",
       "      <td>91670.00</td>\n",
       "    </tr>\n",
       "    <tr>\n",
       "      <th>...</th>\n",
       "      <td>...</td>\n",
       "      <td>...</td>\n",
       "      <td>...</td>\n",
       "    </tr>\n",
       "    <tr>\n",
       "      <th>785624</th>\n",
       "      <td>Data Engineer</td>\n",
       "      <td>139216.0</td>\n",
       "      <td>143392.48</td>\n",
       "    </tr>\n",
       "    <tr>\n",
       "      <th>785641</th>\n",
       "      <td>Data Engineer</td>\n",
       "      <td>150000.0</td>\n",
       "      <td>154500.00</td>\n",
       "    </tr>\n",
       "    <tr>\n",
       "      <th>785648</th>\n",
       "      <td>Data Scientist</td>\n",
       "      <td>221875.0</td>\n",
       "      <td>228531.25</td>\n",
       "    </tr>\n",
       "    <tr>\n",
       "      <th>785682</th>\n",
       "      <td>Data Scientist</td>\n",
       "      <td>157500.0</td>\n",
       "      <td>162225.00</td>\n",
       "    </tr>\n",
       "    <tr>\n",
       "      <th>785692</th>\n",
       "      <td>Data Scientist</td>\n",
       "      <td>157500.0</td>\n",
       "      <td>162225.00</td>\n",
       "    </tr>\n",
       "  </tbody>\n",
       "</table>\n",
       "<p>22003 rows × 3 columns</p>\n",
       "</div>"
      ],
      "text/plain": [
       "       job_title_short  salary_year_avg  salary_year_inflated\n",
       "28      Data Scientist         109500.0             112785.00\n",
       "77       Data Engineer         140000.0             144200.00\n",
       "92       Data Engineer         120000.0             123600.00\n",
       "100     Data Scientist         228222.0             235068.66\n",
       "109       Data Analyst          89000.0              91670.00\n",
       "...                ...              ...                   ...\n",
       "785624   Data Engineer         139216.0             143392.48\n",
       "785641   Data Engineer         150000.0             154500.00\n",
       "785648  Data Scientist         221875.0             228531.25\n",
       "785682  Data Scientist         157500.0             162225.00\n",
       "785692  Data Scientist         157500.0             162225.00\n",
       "\n",
       "[22003 rows x 3 columns]"
      ]
     },
     "execution_count": 45,
     "metadata": {},
     "output_type": "execute_result"
    }
   ],
   "source": [
    "df_salary = df[pd.notna(df['salary_year_avg'])].copy()\n",
    "\n",
    "def projected_salary(row):\n",
    "    if 'Senior' in row['job_title_short']:\n",
    "        return row['salary_year_avg']*1.05\n",
    "    else:\n",
    "        return row['salary_year_avg']*1.03\n",
    "\n",
    "df_salary['salary_year_inflated']=df_salary.apply(projected_salary,axis=1) # apply to each row\n",
    "df_salary[['job_title_short','salary_year_avg','salary_year_inflated']]"
   ]
  },
  {
   "cell_type": "markdown",
   "id": "a531ff75",
   "metadata": {},
   "source": [
    "### Practice 1. Convert Date to String\n",
    "\n",
    "Convert the job_posted_date column to a string format 'YYYY-MM-DD' and create a new column job_posted_date_str."
   ]
  },
  {
   "cell_type": "markdown",
   "id": "f6ae3f6f",
   "metadata": {},
   "source": [
    "| Code | Meaning                     | Example  |\n",
    "| ---- | --------------------------- | -------- |\n",
    "| `%Y` | 4-digit year                | `2024`   |\n",
    "| `%y` | 2-digit year                | `24`     |\n",
    "| `%m` | 2-digit month (01–12)       | `06`     |\n",
    "| `%b` | Abbreviated month name      | `Jun`    |\n",
    "| `%B` | Full month name             | `June`   |\n",
    "| `%d` | 2-digit day of month        | `03`     |\n",
    "| `%A` | Full weekday name           | `Monday` |\n",
    "| `%a` | Abbreviated weekday name    | `Mon`    |\n",
    "| `%H` | Hour (00–23)                | `14`     |\n",
    "| `%I` | Hour (01–12, 12-hour clock) | `02`     |\n",
    "| `%p` | AM/PM                       | `PM`     |\n",
    "| `%M` | Minute                      | `30`     |\n",
    "| `%S` | Second                      | `45`     |\n"
   ]
  },
  {
   "cell_type": "code",
   "execution_count": 46,
   "id": "6570c2d8",
   "metadata": {},
   "outputs": [
    {
     "data": {
      "text/html": [
       "<div>\n",
       "<style scoped>\n",
       "    .dataframe tbody tr th:only-of-type {\n",
       "        vertical-align: middle;\n",
       "    }\n",
       "\n",
       "    .dataframe tbody tr th {\n",
       "        vertical-align: top;\n",
       "    }\n",
       "\n",
       "    .dataframe thead th {\n",
       "        text-align: right;\n",
       "    }\n",
       "</style>\n",
       "<table border=\"1\" class=\"dataframe\">\n",
       "  <thead>\n",
       "    <tr style=\"text-align: right;\">\n",
       "      <th></th>\n",
       "      <th>job_posted_date_str</th>\n",
       "      <th>job_posted_date</th>\n",
       "    </tr>\n",
       "  </thead>\n",
       "  <tbody>\n",
       "    <tr>\n",
       "      <th>0</th>\n",
       "      <td>2023-06-16</td>\n",
       "      <td>2023-06-16 13:44:15</td>\n",
       "    </tr>\n",
       "    <tr>\n",
       "      <th>1</th>\n",
       "      <td>2023-01-14</td>\n",
       "      <td>2023-01-14 13:18:07</td>\n",
       "    </tr>\n",
       "    <tr>\n",
       "      <th>2</th>\n",
       "      <td>2023-10-10</td>\n",
       "      <td>2023-10-10 13:14:55</td>\n",
       "    </tr>\n",
       "    <tr>\n",
       "      <th>3</th>\n",
       "      <td>2023-07-04</td>\n",
       "      <td>2023-07-04 13:01:41</td>\n",
       "    </tr>\n",
       "    <tr>\n",
       "      <th>4</th>\n",
       "      <td>2023-08-07</td>\n",
       "      <td>2023-08-07 14:29:36</td>\n",
       "    </tr>\n",
       "  </tbody>\n",
       "</table>\n",
       "</div>"
      ],
      "text/plain": [
       "  job_posted_date_str     job_posted_date\n",
       "0          2023-06-16 2023-06-16 13:44:15\n",
       "1          2023-01-14 2023-01-14 13:18:07\n",
       "2          2023-10-10 2023-10-10 13:14:55\n",
       "3          2023-07-04 2023-07-04 13:01:41\n",
       "4          2023-08-07 2023-08-07 14:29:36"
      ]
     },
     "execution_count": 46,
     "metadata": {},
     "output_type": "execute_result"
    }
   ],
   "source": [
    "import pandas as pd\n",
    "df=pd.read_csv('/Users/abby/Python_data_project/2_Advanced/data_jobs.csv')\n",
    "df['job_posted_date']=pd.to_datetime(df['job_posted_date'])\n",
    "\n",
    "df['job_posted_date_str']=df['job_posted_date'].dt.strftime('%Y-%m-%d')\n",
    "df[['job_posted_date_str','job_posted_date']].head()"
   ]
  },
  {
   "cell_type": "code",
   "execution_count": 47,
   "id": "0512a31c",
   "metadata": {},
   "outputs": [
    {
     "data": {
      "text/html": [
       "<div>\n",
       "<style scoped>\n",
       "    .dataframe tbody tr th:only-of-type {\n",
       "        vertical-align: middle;\n",
       "    }\n",
       "\n",
       "    .dataframe tbody tr th {\n",
       "        vertical-align: top;\n",
       "    }\n",
       "\n",
       "    .dataframe thead th {\n",
       "        text-align: right;\n",
       "    }\n",
       "</style>\n",
       "<table border=\"1\" class=\"dataframe\">\n",
       "  <thead>\n",
       "    <tr style=\"text-align: right;\">\n",
       "      <th></th>\n",
       "      <th>job_posted_date_str</th>\n",
       "      <th>job_posted_date</th>\n",
       "    </tr>\n",
       "  </thead>\n",
       "  <tbody>\n",
       "    <tr>\n",
       "      <th>0</th>\n",
       "      <td>2023-06-16</td>\n",
       "      <td>2023-06-16 13:44:15</td>\n",
       "    </tr>\n",
       "    <tr>\n",
       "      <th>1</th>\n",
       "      <td>2023-01-14</td>\n",
       "      <td>2023-01-14 13:18:07</td>\n",
       "    </tr>\n",
       "    <tr>\n",
       "      <th>2</th>\n",
       "      <td>2023-10-10</td>\n",
       "      <td>2023-10-10 13:14:55</td>\n",
       "    </tr>\n",
       "    <tr>\n",
       "      <th>3</th>\n",
       "      <td>2023-07-04</td>\n",
       "      <td>2023-07-04 13:01:41</td>\n",
       "    </tr>\n",
       "    <tr>\n",
       "      <th>4</th>\n",
       "      <td>2023-08-07</td>\n",
       "      <td>2023-08-07 14:29:36</td>\n",
       "    </tr>\n",
       "  </tbody>\n",
       "</table>\n",
       "</div>"
      ],
      "text/plain": [
       "  job_posted_date_str     job_posted_date\n",
       "0          2023-06-16 2023-06-16 13:44:15\n",
       "1          2023-01-14 2023-01-14 13:18:07\n",
       "2          2023-10-10 2023-10-10 13:14:55\n",
       "3          2023-07-04 2023-07-04 13:01:41\n",
       "4          2023-08-07 2023-08-07 14:29:36"
      ]
     },
     "execution_count": 47,
     "metadata": {},
     "output_type": "execute_result"
    }
   ],
   "source": [
    "import pandas as pd\n",
    "df=pd.read_csv('/Users/abby/Python_data_project/2_Advanced/data_jobs.csv')\n",
    "df['job_posted_date']=pd.to_datetime(df['job_posted_date'])\n",
    "\n",
    "df['job_posted_date_str']=df['job_posted_date'].apply(lambda x: x.strftime('%Y-%m-%d'))\n",
    "df[['job_posted_date_str','job_posted_date']].head()"
   ]
  },
  {
   "cell_type": "markdown",
   "id": "848ab813",
   "metadata": {},
   "source": [
    "##### .dt is a pandas accessor meant for Series, not individual datetime objects."
   ]
  },
  {
   "cell_type": "markdown",
   "id": "662c8697",
   "metadata": {},
   "source": [
    "| Expression                                | What's happening              | Use when...                          |\n",
    "| ----------------------------------------- | ----------------------------- | ------------------------------------ |\n",
    "| `x.strftime('%Y-%m-%d')` inside `apply()` | `x` is a single datetime      | You're using `apply()` row-by-row    |\n",
    "| `df['col'].dt.strftime('%Y-%m-%d')`       | `dt` acts on the whole Series | You want fast, vectorized formatting |\n"
   ]
  },
  {
   "cell_type": "markdown",
   "id": "87dd8bf4",
   "metadata": {},
   "source": [
    "### Practice 2. Days since posted\n",
    "\n",
    "Calculate the number of days since each job was posted. Create a new column days_since_posted that contains this value. Use the job_posted_date column.\n",
    "\n",
    "Note: You need to import the datetime library and use the datetime module to get the current date using .now()."
   ]
  },
  {
   "cell_type": "code",
   "execution_count": null,
   "id": "d7205ee9",
   "metadata": {},
   "outputs": [
    {
     "data": {
      "text/html": [
       "<div>\n",
       "<style scoped>\n",
       "    .dataframe tbody tr th:only-of-type {\n",
       "        vertical-align: middle;\n",
       "    }\n",
       "\n",
       "    .dataframe tbody tr th {\n",
       "        vertical-align: top;\n",
       "    }\n",
       "\n",
       "    .dataframe thead th {\n",
       "        text-align: right;\n",
       "    }\n",
       "</style>\n",
       "<table border=\"1\" class=\"dataframe\">\n",
       "  <thead>\n",
       "    <tr style=\"text-align: right;\">\n",
       "      <th></th>\n",
       "      <th>job_posted_date</th>\n",
       "      <th>days_since_posted</th>\n",
       "    </tr>\n",
       "  </thead>\n",
       "  <tbody>\n",
       "    <tr>\n",
       "      <th>0</th>\n",
       "      <td>2023-06-16 13:44:15</td>\n",
       "      <td>718</td>\n",
       "    </tr>\n",
       "    <tr>\n",
       "      <th>1</th>\n",
       "      <td>2023-01-14 13:18:07</td>\n",
       "      <td>871</td>\n",
       "    </tr>\n",
       "    <tr>\n",
       "      <th>2</th>\n",
       "      <td>2023-10-10 13:14:55</td>\n",
       "      <td>602</td>\n",
       "    </tr>\n",
       "    <tr>\n",
       "      <th>3</th>\n",
       "      <td>2023-07-04 13:01:41</td>\n",
       "      <td>700</td>\n",
       "    </tr>\n",
       "    <tr>\n",
       "      <th>4</th>\n",
       "      <td>2023-08-07 14:29:36</td>\n",
       "      <td>666</td>\n",
       "    </tr>\n",
       "  </tbody>\n",
       "</table>\n",
       "</div>"
      ],
      "text/plain": [
       "      job_posted_date  days_since_posted\n",
       "0 2023-06-16 13:44:15                718\n",
       "1 2023-01-14 13:18:07                871\n",
       "2 2023-10-10 13:14:55                602\n",
       "3 2023-07-04 13:01:41                700\n",
       "4 2023-08-07 14:29:36                666"
      ]
     },
     "execution_count": 49,
     "metadata": {},
     "output_type": "execute_result"
    }
   ],
   "source": [
    "import pandas as pd\n",
    "from datetime import datetime\n",
    "df=pd.read_csv('/Users/abby/Python_data_project/2_Advanced/data_jobs.csv')\n",
    "df['job_posted_date']=pd.to_datetime(df['job_posted_date'])\n",
    "\n",
    "# Get current timestamp\n",
    "current_date = datetime.now()\n",
    "df['days_since_posted'] = df['job_posted_date'].apply(lambda date: (current_date - date).days)\n",
    "df[['job_posted_date', 'days_since_posted']].head()\n",
    "\n"
   ]
  },
  {
   "cell_type": "markdown",
   "id": "3afa9178",
   "metadata": {},
   "source": [
    "### .days is valid — but only on a timedelta object.\n",
    "\n",
    "**Timedelta** It's the result of subtracting two datetime or date objects\n",
    "\n",
    ".days gives you just the number of whole days in the time difference.  \n",
    "If you want hours or seconds, you can use .seconds, .total_seconds(), etc."
   ]
  },
  {
   "cell_type": "code",
   "execution_count": 54,
   "id": "89c14421",
   "metadata": {},
   "outputs": [
    {
     "name": "stdout",
     "output_type": "stream",
     "text": [
      "2025-06-03 20:09:39.273190\n",
      "2025-05-30 00:00:00\n",
      "4 days, 20:09:39.273190\n",
      "4\n"
     ]
    }
   ],
   "source": [
    "from datetime import datetime\n",
    "\n",
    "current_date = datetime.now()\n",
    "past_date = datetime(2025, 5, 30)\n",
    "\n",
    "delta = current_date - past_date\n",
    "print(current_date)\n",
    "print(past_date)\n",
    "print(delta)      \n",
    "print(delta.days)  "
   ]
  },
  {
   "cell_type": "markdown",
   "id": "89fd529a",
   "metadata": {},
   "source": [
    "### .now() from datetime module\n",
    "-  one option  \n",
    "\n",
    "import datetime  \n",
    "\n",
    "datetime.datetime.now()  # ✅ Works!  \n",
    "datetime.now()  ❌ Error  \n",
    "\n",
    "Because when you import datetime, you're importing the module, not the datetime class inside it.\n",
    "\n",
    "- recommended option\n",
    "\n",
    "from datetime import datetime  \n",
    "\n",
    "datetime.now()  # ✅ Works!"
   ]
  },
  {
   "cell_type": "code",
   "execution_count": 56,
   "id": "f8764bdf",
   "metadata": {},
   "outputs": [
    {
     "name": "stdout",
     "output_type": "stream",
     "text": [
      "2025-06-03 20:19:26.160479\n",
      "2025-06-03\n",
      "2025\n",
      "3\n"
     ]
    }
   ],
   "source": [
    "from datetime import datetime\n",
    "\n",
    "current_timestamp= datetime.now()\n",
    "current_date=datetime.now().date()\n",
    "current_year=datetime.now().year # year is attribute, not method\n",
    "current_day=datetime.now().day\n",
    "\n",
    "print(current_timestamp)\n",
    "print(current_date)\n",
    "print(current_year)\n",
    "print(current_day)"
   ]
  },
  {
   "cell_type": "code",
   "execution_count": null,
   "id": "c9f7c5c7",
   "metadata": {},
   "outputs": [
    {
     "name": "stdout",
     "output_type": "stream",
     "text": [
      "6\n",
      "3\n",
      "20\n",
      "21\n",
      "11\n"
     ]
    }
   ],
   "source": [
    "now = datetime.now()\n",
    "print(now.month)    \n",
    "print(now.day)      \n",
    "print(now.hour)    \n",
    "print(now.minute)  \n",
    "print(now.second)  "
   ]
  },
  {
   "cell_type": "markdown",
   "id": "3e81fc85",
   "metadata": {},
   "source": [
    "### Practice 3. Salary Category\n",
    "Create a copy of the DataFrame called df_filtered and drop the NaN values for salary_year_avg.  \n",
    "\n",
    "Then, create a new column salary_category that categorizes the salary_year_avg into three categories: 'Low' for salaries less than 60,000, 'Medium' for salaries between 60,000 and 100,000, and 'High' for salaries greater than 100,000.  \n",
    "\n",
    "Then show the df_filtered DataFrame and the salary_year_avg and salary_category columns."
   ]
  },
  {
   "cell_type": "code",
   "execution_count": 62,
   "id": "e2e3db18",
   "metadata": {},
   "outputs": [
    {
     "data": {
      "text/html": [
       "<div>\n",
       "<style scoped>\n",
       "    .dataframe tbody tr th:only-of-type {\n",
       "        vertical-align: middle;\n",
       "    }\n",
       "\n",
       "    .dataframe tbody tr th {\n",
       "        vertical-align: top;\n",
       "    }\n",
       "\n",
       "    .dataframe thead th {\n",
       "        text-align: right;\n",
       "    }\n",
       "</style>\n",
       "<table border=\"1\" class=\"dataframe\">\n",
       "  <thead>\n",
       "    <tr style=\"text-align: right;\">\n",
       "      <th></th>\n",
       "      <th>salary_year_avg</th>\n",
       "      <th>salary_category</th>\n",
       "    </tr>\n",
       "  </thead>\n",
       "  <tbody>\n",
       "    <tr>\n",
       "      <th>28</th>\n",
       "      <td>109500.0</td>\n",
       "      <td>High</td>\n",
       "    </tr>\n",
       "    <tr>\n",
       "      <th>77</th>\n",
       "      <td>140000.0</td>\n",
       "      <td>High</td>\n",
       "    </tr>\n",
       "    <tr>\n",
       "      <th>92</th>\n",
       "      <td>120000.0</td>\n",
       "      <td>High</td>\n",
       "    </tr>\n",
       "    <tr>\n",
       "      <th>100</th>\n",
       "      <td>228222.0</td>\n",
       "      <td>High</td>\n",
       "    </tr>\n",
       "    <tr>\n",
       "      <th>109</th>\n",
       "      <td>89000.0</td>\n",
       "      <td>Medium</td>\n",
       "    </tr>\n",
       "    <tr>\n",
       "      <th>...</th>\n",
       "      <td>...</td>\n",
       "      <td>...</td>\n",
       "    </tr>\n",
       "    <tr>\n",
       "      <th>785624</th>\n",
       "      <td>139216.0</td>\n",
       "      <td>High</td>\n",
       "    </tr>\n",
       "    <tr>\n",
       "      <th>785641</th>\n",
       "      <td>150000.0</td>\n",
       "      <td>High</td>\n",
       "    </tr>\n",
       "    <tr>\n",
       "      <th>785648</th>\n",
       "      <td>221875.0</td>\n",
       "      <td>High</td>\n",
       "    </tr>\n",
       "    <tr>\n",
       "      <th>785682</th>\n",
       "      <td>157500.0</td>\n",
       "      <td>High</td>\n",
       "    </tr>\n",
       "    <tr>\n",
       "      <th>785692</th>\n",
       "      <td>157500.0</td>\n",
       "      <td>High</td>\n",
       "    </tr>\n",
       "  </tbody>\n",
       "</table>\n",
       "<p>22003 rows × 2 columns</p>\n",
       "</div>"
      ],
      "text/plain": [
       "        salary_year_avg salary_category\n",
       "28             109500.0            High\n",
       "77             140000.0            High\n",
       "92             120000.0            High\n",
       "100            228222.0            High\n",
       "109             89000.0          Medium\n",
       "...                 ...             ...\n",
       "785624         139216.0            High\n",
       "785641         150000.0            High\n",
       "785648         221875.0            High\n",
       "785682         157500.0            High\n",
       "785692         157500.0            High\n",
       "\n",
       "[22003 rows x 2 columns]"
      ]
     },
     "execution_count": 62,
     "metadata": {},
     "output_type": "execute_result"
    }
   ],
   "source": [
    "import pandas as pd\n",
    "df=pd.read_csv('/Users/abby/Python_data_project/2_Advanced/data_jobs.csv')\n",
    "df['job_posted_date']=pd.to_datetime(df['job_posted_date'])\n",
    "\n",
    "#df1=df.copy()\n",
    "#df_filtered=df1.dropna(subset='salary_year_avg')\n",
    "\n",
    "# drop NaN values for salary_year_avg\n",
    "df_filtered=df[pd.notna(df['salary_year_avg'])].copy()\n",
    "\n",
    "def salary_categories(row):\n",
    "    if row['salary_year_avg'] < 60000:\n",
    "        return 'Low'\n",
    "    elif row['salary_year_avg'] > 100000:\n",
    "        return 'High'\n",
    "    else:\n",
    "        return 'Medium'\n",
    "df_filtered['salary_category']=df_filtered.apply(salary_categories,axis=1)\n",
    "df_filtered[['salary_year_avg','salary_category']]\n"
   ]
  },
  {
   "cell_type": "code",
   "execution_count": 63,
   "id": "4a1264b4",
   "metadata": {},
   "outputs": [
    {
     "data": {
      "text/html": [
       "<div>\n",
       "<style scoped>\n",
       "    .dataframe tbody tr th:only-of-type {\n",
       "        vertical-align: middle;\n",
       "    }\n",
       "\n",
       "    .dataframe tbody tr th {\n",
       "        vertical-align: top;\n",
       "    }\n",
       "\n",
       "    .dataframe thead th {\n",
       "        text-align: right;\n",
       "    }\n",
       "</style>\n",
       "<table border=\"1\" class=\"dataframe\">\n",
       "  <thead>\n",
       "    <tr style=\"text-align: right;\">\n",
       "      <th></th>\n",
       "      <th>salary_year_avg</th>\n",
       "      <th>salary_category</th>\n",
       "    </tr>\n",
       "  </thead>\n",
       "  <tbody>\n",
       "    <tr>\n",
       "      <th>28</th>\n",
       "      <td>109500.0</td>\n",
       "      <td>High</td>\n",
       "    </tr>\n",
       "    <tr>\n",
       "      <th>77</th>\n",
       "      <td>140000.0</td>\n",
       "      <td>High</td>\n",
       "    </tr>\n",
       "    <tr>\n",
       "      <th>92</th>\n",
       "      <td>120000.0</td>\n",
       "      <td>High</td>\n",
       "    </tr>\n",
       "    <tr>\n",
       "      <th>100</th>\n",
       "      <td>228222.0</td>\n",
       "      <td>High</td>\n",
       "    </tr>\n",
       "    <tr>\n",
       "      <th>109</th>\n",
       "      <td>89000.0</td>\n",
       "      <td>Medium</td>\n",
       "    </tr>\n",
       "    <tr>\n",
       "      <th>...</th>\n",
       "      <td>...</td>\n",
       "      <td>...</td>\n",
       "    </tr>\n",
       "    <tr>\n",
       "      <th>785624</th>\n",
       "      <td>139216.0</td>\n",
       "      <td>High</td>\n",
       "    </tr>\n",
       "    <tr>\n",
       "      <th>785641</th>\n",
       "      <td>150000.0</td>\n",
       "      <td>High</td>\n",
       "    </tr>\n",
       "    <tr>\n",
       "      <th>785648</th>\n",
       "      <td>221875.0</td>\n",
       "      <td>High</td>\n",
       "    </tr>\n",
       "    <tr>\n",
       "      <th>785682</th>\n",
       "      <td>157500.0</td>\n",
       "      <td>High</td>\n",
       "    </tr>\n",
       "    <tr>\n",
       "      <th>785692</th>\n",
       "      <td>157500.0</td>\n",
       "      <td>High</td>\n",
       "    </tr>\n",
       "  </tbody>\n",
       "</table>\n",
       "<p>22003 rows × 2 columns</p>\n",
       "</div>"
      ],
      "text/plain": [
       "        salary_year_avg salary_category\n",
       "28             109500.0            High\n",
       "77             140000.0            High\n",
       "92             120000.0            High\n",
       "100            228222.0            High\n",
       "109             89000.0          Medium\n",
       "...                 ...             ...\n",
       "785624         139216.0            High\n",
       "785641         150000.0            High\n",
       "785648         221875.0            High\n",
       "785682         157500.0            High\n",
       "785692         157500.0            High\n",
       "\n",
       "[22003 rows x 2 columns]"
      ]
     },
     "execution_count": 63,
     "metadata": {},
     "output_type": "execute_result"
    }
   ],
   "source": [
    "import pandas as pd\n",
    "df=pd.read_csv('/Users/abby/Python_data_project/2_Advanced/data_jobs.csv')\n",
    "df['job_posted_date']=pd.to_datetime(df['job_posted_date'])\n",
    "\n",
    "# drop NaN values for salary_year_avg\n",
    "df_filtered=df.dropna(subset='salary_year_avg').copy()\n",
    "\n",
    "df_filtered['salary_category']=df['salary_year_avg'].apply(lambda salary: 'High'if salary >100000 else 'Low' if salary < 60000 else 'Medium')\n",
    "df_filtered[['salary_year_avg','salary_category']]"
   ]
  },
  {
   "cell_type": "markdown",
   "id": "ba6889ad",
   "metadata": {},
   "source": [
    "Lambda function works on columns, not the whole dataframe"
   ]
  },
  {
   "cell_type": "code",
   "execution_count": null,
   "id": "da717d49",
   "metadata": {},
   "outputs": [],
   "source": [
    "# First way\n",
    "df_filtered['salary_category']=df['salary_year_avg'].apply(lambda salary: 'High'if salary >100000 else 'Low' if salary < 60000 else 'Medium')\n",
    "\n",
    "# Second way\n",
    "def salary_categories(row):\n",
    "    if row['salary_year_avg'] < 60000:\n",
    "        return 'Low'\n",
    "    elif row['salary_year_avg'] > 100000:\n",
    "        return 'High'\n",
    "    else:\n",
    "        return 'Medium'\n",
    "df_filtered['salary_category']=df_filtered.apply(salary_categories,axis=1)\n"
   ]
  }
 ],
 "metadata": {
  "kernelspec": {
   "display_name": "python_course",
   "language": "python",
   "name": "python3"
  },
  "language_info": {
   "codemirror_mode": {
    "name": "ipython",
    "version": 3
   },
   "file_extension": ".py",
   "mimetype": "text/x-python",
   "name": "python",
   "nbconvert_exporter": "python",
   "pygments_lexer": "ipython3",
   "version": "3.11.9"
  }
 },
 "nbformat": 4,
 "nbformat_minor": 5
}
