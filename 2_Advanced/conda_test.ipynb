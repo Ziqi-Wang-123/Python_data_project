{
 "cells": [
  {
   "cell_type": "markdown",
   "id": "6dd86995",
   "metadata": {},
   "source": [
    ".ipynb \n",
    "It's short for:\n",
    "Interactive PYthon Notebook"
   ]
  },
  {
   "cell_type": "markdown",
   "id": "653a4fb2",
   "metadata": {},
   "source": [
    "✅ Steps to Change VS Code Interface to White (Light Theme)\n",
    "\n",
    "🔧 Method : Through Settings (UI)\n",
    "Open VS Code\n",
    "Press Ctrl + Shift + P (or Cmd + Shift + P on Mac) to open the Command Palette\n",
    "Type and select:\n",
    "Preferences: Color Theme\n",
    "You'll see a list of themes. Choose one of the light themes, such as:\n",
    "Light+ (default light)\n",
    "Quiet Light\n",
    "Solarized Light"
   ]
  },
  {
   "cell_type": "markdown",
   "id": "91026d51",
   "metadata": {},
   "source": [
    "$— it’s just a prompt symbol shown in documentation to indicate \"this is a terminal command.\""
   ]
  },
  {
   "cell_type": "markdown",
   "id": "aaeb30b9",
   "metadata": {},
   "source": [
    "| Purpose          | Markdown Code                          \n",
    "| ---------------- | -------------------------------------- \n",
    "| Heading          | `# Heading 1`, `## Heading 2`          \n",
    "| Bold             | `**bold**` or `__bold__`               \n",
    "| Italic           | `*italic*` or `_italic_`               \n",
    "| Bullet list      | `- Item 1` `- Item 2`                  \n",
    "| Numbered list    | `1. First` `2. Second`                 \n",
    "| Inline code      | `` `code` ``                           \n",
    "| Code block       | <pre>`python<br>print(\"Hi\")<br>`</pre> \n",
    "| Link             | `[OpenAI](https://openai.com)`         \n",
    "| Image            | `![Alt](image_url)`                    \n",
    "| Line break       | End a line with **two spaces**         \n",
    "| Equation (LaTeX) | `$y = mx + b$`                         \n",
    "\n",
    "🔁 Run the Cell\n",
    "Press Shift + Enter to render the Markdown.\n",
    "Until you do that, you’ll just see plain text.\n",
    "\n",
    "\n",
    "| Action                             | Shortcut                       |\n",
    "| ---------------------------------- | ------------------------------ |\n",
    "| Run cell and go to next            | `Shift + Enter`                |\n",
    "| Run cell and stay in place         | `Ctrl + Enter`  |\n",
    "| Run cell and insert new cell below | `Alt + Enter`                  |\n",
    "\n",
    "\n",
    "Using the Menu\n",
    "Click on the View menu at the top\n",
    "Select Terminal from the dropdown\n",
    "or click on ctl+~\n",
    "\n",
    "In terminal, write clear, it will clear all things above, and then write new command"
   ]
  },
  {
   "cell_type": "markdown",
   "id": "b59f8ce2",
   "metadata": {},
   "source": [
    "| Feature             | `conda`                          | `pip`                        |\n",
    "| ------------------- | -------------------------------- | ---------------------------- |\n",
    "| Language support    | Python + non-Python (C, R, etc.) | Python only                  |\n",
    "| Dependency handling | Better (more control)            | Sometimes leads to conflicts |\n",
    "| Package source      | Anaconda or Conda Forge          | PyPI (Python Package Index)  |\n",
    "| Speed               | Often faster for large packages  | Good for pure Python         |\n"
   ]
  },
  {
   "cell_type": "markdown",
   "id": "43fbfeb2",
   "metadata": {},
   "source": [
    "## What Conda Does"
   ]
  },
  {
   "cell_type": "markdown",
   "id": "4212e1e6",
   "metadata": {},
   "source": [
    "1. ✅ Installs Packages\n",
    "You can use Conda to install data science and scientific computing packages:\n",
    "2. ✅ Manages Environments\n",
    "You can create isolated environments with specific Python versions and libraries.\n",
    "Each environment is self-contained, so libraries in one project don’t interfere with another.\n",
    "3. ✅ Manages Python Versions\n",
    "Need to use different Python versions for different projects? Conda handles that too"
   ]
  },
  {
   "cell_type": "markdown",
   "id": "82e578f0",
   "metadata": {},
   "source": [
    "## create environment with Python version"
   ]
  },
  {
   "cell_type": "markdown",
   "id": "818af6e0",
   "metadata": {},
   "source": [
    "- In terminal: **conda create -n newenv python=3.11**\n",
    "- Shift + Command + P opens the Command Palette in VS Code.\n",
    "- Reload Window\n",
    "- Choose new environment"
   ]
  },
  {
   "cell_type": "code",
   "execution_count": 2,
   "id": "6001ad53",
   "metadata": {},
   "outputs": [
    {
     "name": "stdout",
     "output_type": "stream",
     "text": [
      "Hello Abby\n"
     ]
    }
   ],
   "source": [
    "print(\"Hello Abby\")"
   ]
  },
  {
   "cell_type": "markdown",
   "id": "3084326b",
   "metadata": {},
   "source": [
    "# Remove newenv\n",
    "- Terminal\n",
    "- deactivate conda\n",
    "- conda env list: just for check\n",
    "- conda remove -n newenv --all\n"
   ]
  },
  {
   "cell_type": "markdown",
   "id": "48b5e723",
   "metadata": {},
   "source": [
    "- conda list  \n",
    "check all packages installed in current environment  \n",
    "- conda env list  \n",
    "check all environment in vs code"
   ]
  },
  {
   "cell_type": "markdown",
   "id": "06eb79bd",
   "metadata": {},
   "source": [
    "# Markdown Cheat Sheet\n",
    "\n",
    "| Feature           | Syntax Example                        | Rendered Example                    |\n",
    "|-------------------|-------------------------------------|-----------------------------------|\n",
    "| **Heading 1**     | `# Heading 1`                       | # Heading 1                       |\n",
    "| **Italic**        | `*italic*`                         | *italic*                         |\n",
    "| **Bold**          | `**bold**`                         | **bold**                         |\n",
    "| **Bold Italic**   | `***bold italic***`                 | ***bold italic***                 |\n",
    "| **Strikethrough** | `~~strikethrough~~`                 | ~~strikethrough~~                 |\n",
    "| **Unordered List**| `- Item`                           | • Item                          |\n",
    "| **Ordered List**  | `1. Item`                          | 1. Item                         |\n",
    "| **Link**          | `[Google](https://google.com)`      | [Google](https://google.com)      |\n",
    "| **Image**         | `![alt](https://example.com/img.png)` | ![alt](https://example.com/img.png) |\n",
    "| **Inline Code**   | `` `code` ``                      | `code`                         |\n",
    "| **Blockquote**    | `> Quote`                         | > Quote                        |\n",
    "| **Horizontal Rule**| `---`                            | —————————                       |\n",
    "| **Table**         | Use pipes and dashes to create table | See this table                 |\n",
    "\n",
    "---"
   ]
  }
 ],
 "metadata": {
  "kernelspec": {
   "display_name": "newenv",
   "language": "python",
   "name": "python3"
  },
  "language_info": {
   "codemirror_mode": {
    "name": "ipython",
    "version": 3
   },
   "file_extension": ".py",
   "mimetype": "text/x-python",
   "name": "python",
   "nbconvert_exporter": "python",
   "pygments_lexer": "ipython3",
   "version": "3.11.11"
  }
 },
 "nbformat": 4,
 "nbformat_minor": 5
}
